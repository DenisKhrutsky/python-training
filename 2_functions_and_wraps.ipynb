{
 "metadata": {
  "name": ""
 },
 "nbformat": 3,
 "nbformat_minor": 0,
 "worksheets": [
  {
   "cells": [
    {
     "cell_type": "heading",
     "level": 1,
     "metadata": {},
     "source": [
      "\u0424\u0443\u043d\u043a\u0446\u0438\u0438"
     ]
    },
    {
     "cell_type": "heading",
     "level": 4,
     "metadata": {},
     "source": [
      "1. \u041d\u0430\u043f\u0438\u0441\u0430\u0442\u044c \u0444\u0443\u043d\u043a\u0446\u0438\u044e, \u043a\u043e\u0442\u043e\u0440\u043e\u0439 \u043c\u043e\u0436\u043d\u043e \u043f\u0435\u0440\u0435\u0434\u0430\u0432\u0430\u0442\u044c \u0430\u0440\u0433\u0443\u043c\u0435\u043d\u0442\u044b \u043b\u0438\u0431\u043e \u0441\u043f\u0438\u0441\u043a\u043e\u043c/\u043a\u043e\u0440\u0442\u0435\u0436\u0435\u043c, \u043b\u0438\u0431\u043e \u043f\u043e \u043e\u0434\u043d\u043e\u043c\u0443. \u0424\u0443\u043d\u043a\u0446\u0438\u044f \u043f\u0440\u043e\u0438\u0437\u0432\u043e\u0434\u0438\u0442 \u0441\u0443\u043c\u043c\u0438\u0440\u043e\u0432\u0430\u043d\u0438\u0435 \u0432\u0441\u0435\u0445 \u0430\u0440\u0433\u0443\u043c\u0435\u043d\u0442\u043e\u0432."
     ]
    },
    {
     "cell_type": "code",
     "collapsed": false,
     "input": [
      "import collections\n",
      "\n",
      "def sum_objects(*args):\n",
      "    \"\"\"\n",
      "    Returns sum of all arguments\n",
      "    \n",
      "    >>> sum_objects(5, 3)\n",
      "    8\n",
      "    >>> sum_objects((1, 2), 3)\n",
      "    6\n",
      "    >>> sum_objects([5, 6])\n",
      "    11    \n",
      "    \"\"\"    \n",
      "    result = 0\n",
      "    for arg in args:\n",
      "        if isinstance(arg, collections.Iterable):\n",
      "            result += sum_objects(*arg)\n",
      "        else:\n",
      "            result += arg\n",
      "    return result\n",
      "\n",
      "print sum_objects(1, -1, (2, 3))"
     ],
     "language": "python",
     "metadata": {},
     "outputs": [
      {
       "output_type": "stream",
       "stream": "stdout",
       "text": [
        "5\n"
       ]
      }
     ],
     "prompt_number": 16
    },
    {
     "cell_type": "heading",
     "level": 4,
     "metadata": {},
     "source": [
      "2. \u041d\u0430\u043f\u0438\u0441\u0430\u0442\u044c \u0444\u0443\u043d\u043a\u0446\u0438\u044e-\u0444\u0430\u0431\u0440\u0438\u043a\u0443, \u043a\u043e\u0442\u043e\u0440\u0430\u044f \u0431\u0443\u0434\u0435\u0442 \u0432\u043e\u0437\u0432\u0440\u0430\u0449\u0430\u0442\u044c \u0444\u0443\u043d\u043a\u0446\u0438\u044e \u0441\u043b\u043e\u0436\u0435\u043d\u0438\u044f \u0441 \u0430\u0440\u0433\u0443\u043c\u0435\u043d\u0442\u043e\u043c."
     ]
    },
    {
     "cell_type": "code",
     "collapsed": false,
     "input": [
      "def addition(value):\n",
      "    \"\"\"\n",
      "    Returns function that adds given value to argument.\n",
      "    Types must be compatible.\n",
      "    \n",
      "    >>> add2 = addition(2)\n",
      "    >>> add2(2)\n",
      "    4\n",
      "    \n",
      "    >>> add20 = addition(20)\n",
      "    >>> add20(35)\n",
      "    55\n",
      "    \n",
      "    >>> add_letter = addition('s')\n",
      "    >>> add_letter('car')\n",
      "    'cars'\n",
      "    >>> add_letter(5)\n",
      "    TypeError: unsupported operand type(s) for +: 'int' and 'str'\n",
      "    \"\"\"\n",
      "    def func(argument):\n",
      "        return argument + value\n",
      "    \n",
      "    return func\n",
      "\n",
      "def addition_lambda(value):\n",
      "    \"\"\"\n",
      "    Returns function that adds given value to argument.\n",
      "    Types must be compatible.\n",
      "    \n",
      "    >>> add1 = addition_lambda(1)\n",
      "    >>> add1(2)\n",
      "    3\n",
      "    \n",
      "    >>> add10 = addition_lambda(10)\n",
      "    >>> add10(35)\n",
      "    45\n",
      "    \n",
      "    >>> add_letter = addition_lambda('o')\n",
      "    >>> add_letter('ho-ho-h')\n",
      "    'ho-ho-ho'\n",
      "    >>> add_letter(8)\n",
      "    TypeError: unsupported operand type(s) for +: 'int' and 'str'\n",
      "    \"\"\"\n",
      "    return lambda x: x + value\n",
      "\n",
      "add5 = addition(5)\n",
      "add_pi = addition_lambda(3.14)\n",
      "add_letter = addition('s')\n",
      "print add5(12)\n",
      "print add_pi(6.86)"
     ],
     "language": "python",
     "metadata": {},
     "outputs": [
      {
       "output_type": "stream",
       "stream": "stdout",
       "text": [
        "17\n",
        "10.0\n"
       ]
      }
     ],
     "prompt_number": 2
    },
    {
     "cell_type": "heading",
     "level": 4,
     "metadata": {},
     "source": [
      "3. \u041d\u0430\u043f\u0438\u0441\u0430\u0442\u044c \u0444\u0430\u0431\u0440\u0438\u043a\u0443, \u0430\u043d\u0430\u043b\u043e\u0433\u0438\u0447\u043d\u0443\u044e \u043f.2, \u043d\u043e \u0432\u043e\u0437\u0432\u0440\u0430\u0449\u0430\u044e\u0449\u0443\u044e \u0441\u043f\u0438\u0441\u043e\u043a \u0442\u0430\u043a\u0438\u0445 \u0444\u0443\u043d\u043a\u0446\u0438\u0439"
     ]
    },
    {
     "cell_type": "code",
     "collapsed": false,
     "input": [
      "def addition_range(start, end):\n",
      "    \"\"\"\n",
      "    Returns list of adding functions.\n",
      "    \n",
      "    >>> additions = addition_range(1, 10)\n",
      "    >>> additions[2](10)\n",
      "    13\n",
      "    \n",
      "    >>> additions = addition_range(1, 10.5)\n",
      "    TypeError: range() integer end argument expected, got float.\n",
      "    \n",
      "    >>> additions = addition_range(1.5, 10)\n",
      "    TypeError: range() integer start argument expected, got float.\n",
      "    \"\"\"    \n",
      "    return [addition(value) for value in range(start, end + 1)]\n",
      "\n",
      "funcs = addition_range(0, 10)\n",
      "print funcs[4](5)"
     ],
     "language": "python",
     "metadata": {},
     "outputs": [
      {
       "output_type": "stream",
       "stream": "stdout",
       "text": [
        "9\n"
       ]
      }
     ],
     "prompt_number": 4
    },
    {
     "cell_type": "heading",
     "level": 4,
     "metadata": {},
     "source": [
      "4. \u041d\u0430\u043f\u0438\u0441\u0430\u0442\u044c \u0430\u043d\u0430\u043b\u043e\u0433 map."
     ]
    },
    {
     "cell_type": "code",
     "collapsed": false,
     "input": [
      "def mymap(functions, arguments):\n",
      "    \"\"\"\n",
      "    \u0410\u043d\u0430\u043b\u043e\u0433 map. \u0412\u044b\u0437\u044b\u0432\u0430\u0435\u0442 \u0444\u0443\u043d\u043a\u0446\u0438\u0438 \u0438\u0437 \u0441\u043f\u0438\u0441\u043a\u0430 \u0441 \u0443\u043a\u0430\u0437\u0430\u043d\u043d\u044b\u043c\u0438 \u0430\u0440\u0433\u0443\u043c\u0435\u043d\u0442\u0430\u043c\u0438.\n",
      "    functions - \u0444\u0443\u043d\u043a\u0446\u0438\u044f \u0438\u043b\u0438 \u0441\u043f\u0438\u0441\u043e\u043a \u0444\u0443\u043d\u043a\u0446\u0438\u0439\n",
      "    arguments - \u0441\u043f\u0438\u0441\u043e\u043a \u0430\u0440\u0433\u0443\u043c\u0435\u043d\u0442\u043e\u0432, \u043a\u043e\u0442\u043e\u0440\u044b\u0435 \u0431\u0443\u0434\u0443\u0442 \u043f\u0435\u0440\u0435\u0434\u0430\u043d\u044b \u0444\u0443\u043d\u043a\u0446\u0438\u044f\u043c\n",
      "    \n",
      "    >>> mymap(add1, [1, 2, 3])\n",
      "    [2, 3, 4]\n",
      "    \n",
      "    >>> \n",
      "    \"\"\"\n",
      "    \n",
      "    if hasattr(functions, '__iter__'):\n",
      "        return [[function(arg) for arg in arguments] for function in functions]\n",
      "    else:\n",
      "        return [functions(arg) for arg in arguments]\n",
      "    \n",
      "print mymap(add_letter, ['cat', 'dog'])\n",
      "print mymap(addition_range(1, 3), [2, 5])"
     ],
     "language": "python",
     "metadata": {},
     "outputs": [
      {
       "output_type": "stream",
       "stream": "stdout",
       "text": [
        "['cats', 'dogs']\n",
        "[[3, 6], [4, 7], [5, 8]]\n"
       ]
      }
     ],
     "prompt_number": 20
    },
    {
     "cell_type": "heading",
     "level": 1,
     "metadata": {},
     "source": [
      "\u0414\u0435\u043a\u043e\u0440\u0430\u0442\u043e\u0440\u044b"
     ]
    },
    {
     "cell_type": "heading",
     "level": 4,
     "metadata": {},
     "source": [
      "1. \u041d\u0430\u043f\u0438\u0441\u0430\u0442\u044c \u0434\u0435\u043a\u043e\u0440\u0430\u0442\u043e\u0440 \u0434\u043e\u0431\u0430\u0432\u043b\u044f\u044e\u0449\u0438\u0439 \u043a \u0434\u043e\u043a\u0441\u0442\u0440\u0438\u043d\u0433\u0430\u043c \u0444\u0443\u043d\u043a\u0446\u0438\u0438 \u0444\u0440\u0430\u0437\u0443 \"I was here ;)\""
     ]
    },
    {
     "cell_type": "code",
     "collapsed": false,
     "input": [
      "def hello(func):\n",
      "    if not func.__doc__:\n",
      "        func.__doc__ = \"I was here ;)\"\n",
      "    else:\n",
      "        func.__doc__ += \"\\nI was here ;)\"\n",
      "    return func\n",
      "\n",
      "@hello\n",
      "def foo(bar=2):\n",
      "    \"\"\"Bar\"\"\"\n",
      "    return bar\n",
      "\n",
      "foo(1)\n",
      "help(foo)"
     ],
     "language": "python",
     "metadata": {},
     "outputs": [
      {
       "output_type": "stream",
       "stream": "stdout",
       "text": [
        "Help on function foo in module __main__:\n",
        "\n",
        "foo(bar=2)\n",
        "    Bar\n",
        "    I was here ;)\n",
        "\n"
       ]
      }
     ],
     "prompt_number": 7
    },
    {
     "cell_type": "heading",
     "level": 4,
     "metadata": {},
     "source": [
      "2. \u041d\u0430\u043f\u0438\u0441\u0430\u0442\u044c \u0434\u0435\u043a\u043e\u0440\u0430\u0442\u043e\u0440 \u043a\u043e\u0442\u043e\u0440\u044b\u0439 c\u0447\u0438\u0442\u0430\u0435\u0442 \u0432\u0440\u0435\u043c\u044f \u0432\u044b\u043f\u043e\u043b\u043d\u0435\u043d\u0438\u044f \u0444\u0443\u043d\u043a\u0446\u0438\u0438."
     ]
    },
    {
     "cell_type": "code",
     "collapsed": false,
     "input": [
      "import time\n",
      "\n",
      "def stopwatch(func):\n",
      "    def wrapper(*args, **kwargs):\n",
      "        t = time.clock()\n",
      "        res = func(*args, **kwargs)\n",
      "        print \"{0}: {1}\".format(func.__name__, time.clock() - t)\n",
      "        return res\n",
      "    return wrapper\n",
      "\n",
      "@stopwatch\n",
      "def primes_sieve(limit):\n",
      "    limitn = limit + 1\n",
      "    not_prime = set()\n",
      "    primes = []\n",
      "    for i in range(2, limitn):\n",
      "        if i in not_prime:\n",
      "            continue\n",
      "        for f in range(i * 2, limitn, i):\n",
      "            not_prime.add(f)\n",
      "        primes.append(i)\n",
      "    return primes\n",
      "                \n",
      "primes = stopwatch(primes_sieve)\n",
      "primes(1000)"
     ],
     "language": "python",
     "metadata": {},
     "outputs": [
      {
       "output_type": "stream",
       "stream": "stdout",
       "text": [
        "primes_sieve: 0.004845\n",
        "wrapper: 0.005052\n"
       ]
      },
      {
       "metadata": {},
       "output_type": "pyout",
       "prompt_number": 32,
       "text": [
        "[2,\n",
        " 3,\n",
        " 5,\n",
        " 7,\n",
        " 11,\n",
        " 13,\n",
        " 17,\n",
        " 19,\n",
        " 23,\n",
        " 29,\n",
        " 31,\n",
        " 37,\n",
        " 41,\n",
        " 43,\n",
        " 47,\n",
        " 53,\n",
        " 59,\n",
        " 61,\n",
        " 67,\n",
        " 71,\n",
        " 73,\n",
        " 79,\n",
        " 83,\n",
        " 89,\n",
        " 97,\n",
        " 101,\n",
        " 103,\n",
        " 107,\n",
        " 109,\n",
        " 113,\n",
        " 127,\n",
        " 131,\n",
        " 137,\n",
        " 139,\n",
        " 149,\n",
        " 151,\n",
        " 157,\n",
        " 163,\n",
        " 167,\n",
        " 173,\n",
        " 179,\n",
        " 181,\n",
        " 191,\n",
        " 193,\n",
        " 197,\n",
        " 199,\n",
        " 211,\n",
        " 223,\n",
        " 227,\n",
        " 229,\n",
        " 233,\n",
        " 239,\n",
        " 241,\n",
        " 251,\n",
        " 257,\n",
        " 263,\n",
        " 269,\n",
        " 271,\n",
        " 277,\n",
        " 281,\n",
        " 283,\n",
        " 293,\n",
        " 307,\n",
        " 311,\n",
        " 313,\n",
        " 317,\n",
        " 331,\n",
        " 337,\n",
        " 347,\n",
        " 349,\n",
        " 353,\n",
        " 359,\n",
        " 367,\n",
        " 373,\n",
        " 379,\n",
        " 383,\n",
        " 389,\n",
        " 397,\n",
        " 401,\n",
        " 409,\n",
        " 419,\n",
        " 421,\n",
        " 431,\n",
        " 433,\n",
        " 439,\n",
        " 443,\n",
        " 449,\n",
        " 457,\n",
        " 461,\n",
        " 463,\n",
        " 467,\n",
        " 479,\n",
        " 487,\n",
        " 491,\n",
        " 499,\n",
        " 503,\n",
        " 509,\n",
        " 521,\n",
        " 523,\n",
        " 541,\n",
        " 547,\n",
        " 557,\n",
        " 563,\n",
        " 569,\n",
        " 571,\n",
        " 577,\n",
        " 587,\n",
        " 593,\n",
        " 599,\n",
        " 601,\n",
        " 607,\n",
        " 613,\n",
        " 617,\n",
        " 619,\n",
        " 631,\n",
        " 641,\n",
        " 643,\n",
        " 647,\n",
        " 653,\n",
        " 659,\n",
        " 661,\n",
        " 673,\n",
        " 677,\n",
        " 683,\n",
        " 691,\n",
        " 701,\n",
        " 709,\n",
        " 719,\n",
        " 727,\n",
        " 733,\n",
        " 739,\n",
        " 743,\n",
        " 751,\n",
        " 757,\n",
        " 761,\n",
        " 769,\n",
        " 773,\n",
        " 787,\n",
        " 797,\n",
        " 809,\n",
        " 811,\n",
        " 821,\n",
        " 823,\n",
        " 827,\n",
        " 829,\n",
        " 839,\n",
        " 853,\n",
        " 857,\n",
        " 859,\n",
        " 863,\n",
        " 877,\n",
        " 881,\n",
        " 883,\n",
        " 887,\n",
        " 907,\n",
        " 911,\n",
        " 919,\n",
        " 929,\n",
        " 937,\n",
        " 941,\n",
        " 947,\n",
        " 953,\n",
        " 967,\n",
        " 971,\n",
        " 977,\n",
        " 983,\n",
        " 991,\n",
        " 997]"
       ]
      }
     ],
     "prompt_number": 32
    },
    {
     "cell_type": "heading",
     "level": 4,
     "metadata": {},
     "source": [
      "3. \u041d\u0430\u043f\u0438\u0441\u0430\u0442\u044c \u0434\u0432\u0430 \u0434\u0435\u043a\u043e\u0440\u0430\u0442\u043e\u0440\u0430: returns \u0438 accepts"
     ]
    },
    {
     "cell_type": "code",
     "collapsed": false,
     "input": [
      "def accepts(*types):\n",
      "    def wrapper(func):\n",
      "        def wrapped(*args, **kwargs):\n",
      "            for arg in args:\n",
      "                if not isinstance(arg, types):\n",
      "                    raise TypeError('Wrong type of argument')\n",
      "            return func(*args, **kwargs)            \n",
      "        return wrapped\n",
      "    return wrapper\n",
      "\n",
      "def returns(*types):\n",
      "    def wrapper(func):\n",
      "        def wrapped(*args, **kwargs):\n",
      "            result = func(*args, **kwargs)\n",
      "            for value in result:\n",
      "                if not isinstance(value, types):\n",
      "                    raise TypeError('Wrong type of return value')\n",
      "            return result\n",
      "        return wrapped\n",
      "    return wrapper\n",
      "\n",
      "@accepts(int, float)\n",
      "@returns(int)\n",
      "def bar(value):\n",
      "    return value + 9, value - 9\n",
      "\n",
      "bar(4.0)"
     ],
     "language": "python",
     "metadata": {},
     "outputs": [
      {
       "ename": "TypeError",
       "evalue": "Wrong type of return value",
       "output_type": "pyerr",
       "traceback": [
        "\u001b[0;31m---------------------------------------------------------------------------\u001b[0m\n\u001b[0;31mTypeError\u001b[0m                                 Traceback (most recent call last)",
        "\u001b[0;32m<ipython-input-23-91a3a95bfa4b>\u001b[0m in \u001b[0;36m<module>\u001b[0;34m()\u001b[0m\n\u001b[1;32m     25\u001b[0m     \u001b[0;32mreturn\u001b[0m \u001b[0mvalue\u001b[0m \u001b[0;34m+\u001b[0m \u001b[0;36m9\u001b[0m\u001b[0;34m,\u001b[0m \u001b[0mvalue\u001b[0m \u001b[0;34m-\u001b[0m \u001b[0;36m9\u001b[0m\u001b[0;34m\u001b[0m\u001b[0m\n\u001b[1;32m     26\u001b[0m \u001b[0;34m\u001b[0m\u001b[0m\n\u001b[0;32m---> 27\u001b[0;31m \u001b[0mbar\u001b[0m\u001b[0;34m(\u001b[0m\u001b[0;36m4.0\u001b[0m\u001b[0;34m)\u001b[0m\u001b[0;34m\u001b[0m\u001b[0m\n\u001b[0m",
        "\u001b[0;32m<ipython-input-23-91a3a95bfa4b>\u001b[0m in \u001b[0;36mwrapped\u001b[0;34m(*args, **kwargs)\u001b[0m\n\u001b[1;32m      5\u001b[0m                 \u001b[0;32mif\u001b[0m \u001b[0;32mnot\u001b[0m \u001b[0misinstance\u001b[0m\u001b[0;34m(\u001b[0m\u001b[0marg\u001b[0m\u001b[0;34m,\u001b[0m \u001b[0mtypes\u001b[0m\u001b[0;34m)\u001b[0m\u001b[0;34m:\u001b[0m\u001b[0;34m\u001b[0m\u001b[0m\n\u001b[1;32m      6\u001b[0m                     \u001b[0;32mraise\u001b[0m \u001b[0mTypeError\u001b[0m\u001b[0;34m(\u001b[0m\u001b[0;34m'Wrong type of argument'\u001b[0m\u001b[0;34m)\u001b[0m\u001b[0;34m\u001b[0m\u001b[0m\n\u001b[0;32m----> 7\u001b[0;31m             \u001b[0;32mreturn\u001b[0m \u001b[0mfunc\u001b[0m\u001b[0;34m(\u001b[0m\u001b[0;34m*\u001b[0m\u001b[0margs\u001b[0m\u001b[0;34m,\u001b[0m \u001b[0;34m**\u001b[0m\u001b[0mkwargs\u001b[0m\u001b[0;34m)\u001b[0m\u001b[0;34m\u001b[0m\u001b[0m\n\u001b[0m\u001b[1;32m      8\u001b[0m         \u001b[0;32mreturn\u001b[0m \u001b[0mwrapped\u001b[0m\u001b[0;34m\u001b[0m\u001b[0m\n\u001b[1;32m      9\u001b[0m     \u001b[0;32mreturn\u001b[0m \u001b[0mwrapper\u001b[0m\u001b[0;34m\u001b[0m\u001b[0m\n",
        "\u001b[0;32m<ipython-input-23-91a3a95bfa4b>\u001b[0m in \u001b[0;36mwrapped\u001b[0;34m(*args, **kwargs)\u001b[0m\n\u001b[1;32m     15\u001b[0m             \u001b[0;32mfor\u001b[0m \u001b[0mvalue\u001b[0m \u001b[0;32min\u001b[0m \u001b[0mresult\u001b[0m\u001b[0;34m:\u001b[0m\u001b[0;34m\u001b[0m\u001b[0m\n\u001b[1;32m     16\u001b[0m                 \u001b[0;32mif\u001b[0m \u001b[0;32mnot\u001b[0m \u001b[0misinstance\u001b[0m\u001b[0;34m(\u001b[0m\u001b[0mvalue\u001b[0m\u001b[0;34m,\u001b[0m \u001b[0mtypes\u001b[0m\u001b[0;34m)\u001b[0m\u001b[0;34m:\u001b[0m\u001b[0;34m\u001b[0m\u001b[0m\n\u001b[0;32m---> 17\u001b[0;31m                     \u001b[0;32mraise\u001b[0m \u001b[0mTypeError\u001b[0m\u001b[0;34m(\u001b[0m\u001b[0;34m'Wrong type of return value'\u001b[0m\u001b[0;34m)\u001b[0m\u001b[0;34m\u001b[0m\u001b[0m\n\u001b[0m\u001b[1;32m     18\u001b[0m             \u001b[0;32mreturn\u001b[0m \u001b[0mresult\u001b[0m\u001b[0;34m\u001b[0m\u001b[0m\n\u001b[1;32m     19\u001b[0m         \u001b[0;32mreturn\u001b[0m \u001b[0mwrapped\u001b[0m\u001b[0;34m\u001b[0m\u001b[0m\n",
        "\u001b[0;31mTypeError\u001b[0m: Wrong type of return value"
       ]
      }
     ],
     "prompt_number": 23
    }
   ],
   "metadata": {}
  }
 ]
}