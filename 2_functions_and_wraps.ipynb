{
 "metadata": {
  "name": ""
 },
 "nbformat": 3,
 "nbformat_minor": 0,
 "worksheets": [
  {
   "cells": [
    {
     "cell_type": "heading",
     "level": 1,
     "metadata": {},
     "source": [
      "\u0424\u0443\u043d\u043a\u0446\u0438\u0438"
     ]
    },
    {
     "cell_type": "heading",
     "level": 4,
     "metadata": {},
     "source": [
      "1. \u041d\u0430\u043f\u0438\u0441\u0430\u0442\u044c \u0444\u0443\u043d\u043a\u0446\u0438\u044e, \u043a\u043e\u0442\u043e\u0440\u043e\u0439 \u043c\u043e\u0436\u043d\u043e \u043f\u0435\u0440\u0435\u0434\u0430\u0432\u0430\u0442\u044c \u0430\u0440\u0433\u0443\u043c\u0435\u043d\u0442\u044b \u043b\u0438\u0431\u043e \u0441\u043f\u0438\u0441\u043a\u043e\u043c/\u043a\u043e\u0440\u0442\u0435\u0436\u0435\u043c, \u043b\u0438\u0431\u043e \u043f\u043e \u043e\u0434\u043d\u043e\u043c\u0443. \u0424\u0443\u043d\u043a\u0446\u0438\u044f \u043f\u0440\u043e\u0438\u0437\u0432\u043e\u0434\u0438\u0442 \u0441\u0443\u043c\u043c\u0438\u0440\u043e\u0432\u0430\u043d\u0438\u0435 \u0432\u0441\u0435\u0445 \u0430\u0440\u0433\u0443\u043c\u0435\u043d\u0442\u043e\u0432."
     ]
    },
    {
     "cell_type": "code",
     "collapsed": false,
     "input": [
      "import collections\n",
      "\n",
      "def sum_objects(*args):\n",
      "    \"\"\"\n",
      "    Returns sum of all arguments\n",
      "    \n",
      "    >>> sum_objects(5, 3)\n",
      "    8\n",
      "    >>> sum_objects((1, 2), 3)\n",
      "    6\n",
      "    >>> sum_objects([5, 6])\n",
      "    11    \n",
      "    \"\"\"    \n",
      "    result = 0\n",
      "    for arg in args:\n",
      "        if isinstance(arg, collections.Iterable):\n",
      "            result += sum_objects(*arg)\n",
      "        else:\n",
      "            result += arg\n",
      "    return result\n",
      "\n",
      "print sum_objects(1, -1, (2, 3))"
     ],
     "language": "python",
     "metadata": {},
     "outputs": [
      {
       "output_type": "stream",
       "stream": "stdout",
       "text": [
        "5\n"
       ]
      }
     ],
     "prompt_number": 16
    },
    {
     "cell_type": "heading",
     "level": 4,
     "metadata": {},
     "source": [
      "2. \u041d\u0430\u043f\u0438\u0441\u0430\u0442\u044c \u0444\u0443\u043d\u043a\u0446\u0438\u044e-\u0444\u0430\u0431\u0440\u0438\u043a\u0443, \u043a\u043e\u0442\u043e\u0440\u0430\u044f \u0431\u0443\u0434\u0435\u0442 \u0432\u043e\u0437\u0432\u0440\u0430\u0449\u0430\u0442\u044c \u0444\u0443\u043d\u043a\u0446\u0438\u044e \u0441\u043b\u043e\u0436\u0435\u043d\u0438\u044f \u0441 \u0430\u0440\u0433\u0443\u043c\u0435\u043d\u0442\u043e\u043c."
     ]
    },
    {
     "cell_type": "code",
     "collapsed": false,
     "input": [
      "def addition(value):\n",
      "    \"\"\"\n",
      "    Returns function that adds given value to argument.\n",
      "    Types must be compatible.\n",
      "    \n",
      "    >>> add2 = addition(2)\n",
      "    >>> add2(2)\n",
      "    4\n",
      "    \n",
      "    >>> add20 = addition(20)\n",
      "    >>> add20(35)\n",
      "    55\n",
      "    \n",
      "    >>> add_letter = addition('s')\n",
      "    >>> add_letter('car')\n",
      "    'cars'\n",
      "    >>> add_letter(5)\n",
      "    TypeError: unsupported operand type(s) for +: 'int' and 'str'\n",
      "    \"\"\"\n",
      "    def func(argument):\n",
      "        return argument + value\n",
      "    \n",
      "    return func\n",
      "\n",
      "def addition_lambda(value):\n",
      "    \"\"\"\n",
      "    Returns function that adds given value to argument.\n",
      "    Types must be compatible.\n",
      "    \n",
      "    >>> add1 = addition_lambda(1)\n",
      "    >>> add1(2)\n",
      "    3\n",
      "    \n",
      "    >>> add10 = addition_lambda(10)\n",
      "    >>> add10(35)\n",
      "    45\n",
      "    \n",
      "    >>> add_letter = addition_lambda('o')\n",
      "    >>> add_letter('ho-ho-h')\n",
      "    'ho-ho-ho'\n",
      "    >>> add_letter(8)\n",
      "    TypeError: unsupported operand type(s) for +: 'int' and 'str'\n",
      "    \"\"\"\n",
      "    return lambda x: x + value\n",
      "\n",
      "add5 = addition(5)\n",
      "add_pi = addition_lambda(3.14)\n",
      "add_letter = addition('s')\n",
      "print add5(12)\n",
      "print add_pi(6.86)"
     ],
     "language": "python",
     "metadata": {},
     "outputs": [
      {
       "output_type": "stream",
       "stream": "stdout",
       "text": [
        "17\n",
        "10.0\n"
       ]
      }
     ],
     "prompt_number": 2
    },
    {
     "cell_type": "heading",
     "level": 4,
     "metadata": {},
     "source": [
      "3. \u041d\u0430\u043f\u0438\u0441\u0430\u0442\u044c \u0444\u0430\u0431\u0440\u0438\u043a\u0443, \u0430\u043d\u0430\u043b\u043e\u0433\u0438\u0447\u043d\u0443\u044e \u043f.2, \u043d\u043e \u0432\u043e\u0437\u0432\u0440\u0430\u0449\u0430\u044e\u0449\u0443\u044e \u0441\u043f\u0438\u0441\u043e\u043a \u0442\u0430\u043a\u0438\u0445 \u0444\u0443\u043d\u043a\u0446\u0438\u0439"
     ]
    },
    {
     "cell_type": "code",
     "collapsed": false,
     "input": [
      "def addition_range(start, end):\n",
      "    \"\"\"\n",
      "    Returns list of adding functions.\n",
      "    \n",
      "    >>> additions = addition_range(1, 10)\n",
      "    >>> additions[2](10)\n",
      "    13\n",
      "    \n",
      "    >>> additions = addition_range(1, 10.5)\n",
      "    TypeError: range() integer end argument expected, got float.\n",
      "    \n",
      "    >>> additions = addition_range(1.5, 10)\n",
      "    TypeError: range() integer start argument expected, got float.\n",
      "    \"\"\"    \n",
      "    return [addition(value) for value in range(start, end + 1)]\n",
      "\n",
      "funcs = addition_range(0, 10)\n",
      "print funcs[4](5)"
     ],
     "language": "python",
     "metadata": {},
     "outputs": [
      {
       "output_type": "stream",
       "stream": "stdout",
       "text": [
        "9\n"
       ]
      }
     ],
     "prompt_number": 4
    },
    {
     "cell_type": "heading",
     "level": 4,
     "metadata": {},
     "source": [
      "4. \u041d\u0430\u043f\u0438\u0441\u0430\u0442\u044c \u0430\u043d\u0430\u043b\u043e\u0433 map."
     ]
    },
    {
     "cell_type": "code",
     "collapsed": false,
     "input": [
      "def mymap(functions, arguments):\n",
      "    \"\"\"\n",
      "    \u0410\u043d\u0430\u043b\u043e\u0433 map. \u0412\u044b\u0437\u044b\u0432\u0430\u0435\u0442 \u0444\u0443\u043d\u043a\u0446\u0438\u0438 \u0438\u0437 \u0441\u043f\u0438\u0441\u043a\u0430 \u0441 \u0443\u043a\u0430\u0437\u0430\u043d\u043d\u044b\u043c\u0438 \u0430\u0440\u0433\u0443\u043c\u0435\u043d\u0442\u0430\u043c\u0438.\n",
      "    functions - \u0444\u0443\u043d\u043a\u0446\u0438\u044f \u0438\u043b\u0438 \u0441\u043f\u0438\u0441\u043e\u043a \u0444\u0443\u043d\u043a\u0446\u0438\u0439\n",
      "    arguments - \u0441\u043f\u0438\u0441\u043e\u043a \u0430\u0440\u0433\u0443\u043c\u0435\u043d\u0442\u043e\u0432, \u043a\u043e\u0442\u043e\u0440\u044b\u0435 \u0431\u0443\u0434\u0443\u0442 \u043f\u0435\u0440\u0435\u0434\u0430\u043d\u044b \u0444\u0443\u043d\u043a\u0446\u0438\u044f\u043c\n",
      "    \n",
      "    >>> mymap(add1, [1, 2, 3])\n",
      "    [2, 3, 4]\n",
      "    \n",
      "    >>> \n",
      "    \"\"\"\n",
      "    \n",
      "    if hasattr(functions, '__iter__'):\n",
      "        return [[function(arg) for arg in arguments] for function in functions]\n",
      "    else:\n",
      "        return [functions(arg) for arg in arguments]\n",
      "    \n",
      "print mymap(add_letter, ['cat', 'dog'])\n",
      "print mymap(addition_range(1, 3), [2, 5])"
     ],
     "language": "python",
     "metadata": {},
     "outputs": [
      {
       "output_type": "stream",
       "stream": "stdout",
       "text": [
        "['cats', 'dogs']\n",
        "[[3, 6], [4, 7], [5, 8]]\n"
       ]
      }
     ],
     "prompt_number": 20
    },
    {
     "cell_type": "heading",
     "level": 1,
     "metadata": {},
     "source": [
      "\u0414\u0435\u043a\u043e\u0440\u0430\u0442\u043e\u0440\u044b"
     ]
    },
    {
     "cell_type": "heading",
     "level": 4,
     "metadata": {},
     "source": [
      "1. \u041d\u0430\u043f\u0438\u0441\u0430\u0442\u044c \u0434\u0435\u043a\u043e\u0440\u0430\u0442\u043e\u0440 \u0434\u043e\u0431\u0430\u0432\u043b\u044f\u044e\u0449\u0438\u0439 \u043a \u0434\u043e\u043a\u0441\u0442\u0440\u0438\u043d\u0433\u0430\u043c \u0444\u0443\u043d\u043a\u0446\u0438\u0438 \u0444\u0440\u0430\u0437\u0443 \"I was here ;)\""
     ]
    },
    {
     "cell_type": "code",
     "collapsed": false,
     "input": [
      "def hello(func):\n",
      "    if not func.__doc__:\n",
      "        func.__doc__ = \"I was here ;)\"\n",
      "    else:\n",
      "        func.__doc__ += \"\\nI was here ;)\"\n",
      "    return func\n",
      "\n",
      "@hello\n",
      "def foo(bar=2):\n",
      "    \"\"\"Bar\"\"\"\n",
      "    return bar\n",
      "\n",
      "foo(1)\n",
      "help(foo)"
     ],
     "language": "python",
     "metadata": {},
     "outputs": [
      {
       "output_type": "stream",
       "stream": "stdout",
       "text": [
        "Help on function foo in module __main__:\n",
        "\n",
        "foo(bar=2)\n",
        "    Bar\n",
        "    I was here ;)\n",
        "\n"
       ]
      }
     ],
     "prompt_number": 7
    },
    {
     "cell_type": "heading",
     "level": 4,
     "metadata": {},
     "source": [
      "2. \u041d\u0430\u043f\u0438\u0441\u0430\u0442\u044c \u0434\u0435\u043a\u043e\u0440\u0430\u0442\u043e\u0440 \u043a\u043e\u0442\u043e\u0440\u044b\u0439 c\u0447\u0438\u0442\u0430\u0435\u0442 \u0432\u0440\u0435\u043c\u044f \u0432\u044b\u043f\u043e\u043b\u043d\u0435\u043d\u0438\u044f \u0444\u0443\u043d\u043a\u0446\u0438\u0438."
     ]
    },
    {
     "cell_type": "code",
     "collapsed": false,
     "input": [
      "import time\n",
      "\n",
      "def stopwatch(func):\n",
      "    def wrapper(*args, **kwargs):\n",
      "        t = time.clock()\n",
      "        res = func(*args, **kwargs)\n",
      "        print \"{0}: {1}\".format(func.__name__, time.clock() - t)\n",
      "        return res\n",
      "    return wrapper\n",
      "\n",
      "@stopwatch\n",
      "def primes_sieve(limit):\n",
      "    limitn = limit + 1\n",
      "    not_prime = set()\n",
      "    primes = []\n",
      "    for i in range(2, limitn):\n",
      "        if i in not_prime:\n",
      "            continue\n",
      "        for f in range(i * 2, limitn, i):\n",
      "            not_prime.add(f)\n",
      "        primes.append(i)\n",
      "    return primes\n",
      "                \n",
      "primes = primes_sieve(100000)"
     ],
     "language": "python",
     "metadata": {},
     "outputs": [
      {
       "output_type": "stream",
       "stream": "stdout",
       "text": [
        "primes_sieve: 0.445966\n"
       ]
      }
     ],
     "prompt_number": 43
    },
    {
     "cell_type": "heading",
     "level": 4,
     "metadata": {},
     "source": [
      "3. \u041d\u0430\u043f\u0438\u0441\u0430\u0442\u044c \u0434\u0432\u0430 \u0434\u0435\u043a\u043e\u0440\u0430\u0442\u043e\u0440\u0430: returns \u0438 accepts"
     ]
    },
    {
     "cell_type": "code",
     "collapsed": false,
     "input": [
      "def accepts(*types):\n",
      "    def wrapper(func):\n",
      "        def wrapped(*args, **kwargs):\n",
      "            for arg in args:\n",
      "                if not isinstance(arg, types):\n",
      "                    raise TypeError('Wrong type of argument')\n",
      "            return func(*args, **kwargs)            \n",
      "        return wrapped\n",
      "    return wrapper\n",
      "\n",
      "def returns(*types):\n",
      "    def wrapper(func):\n",
      "        def wrapped(*args, **kwargs):\n",
      "            result = func(*args, **kwargs)\n",
      "            for value in result:\n",
      "                if not isinstance(value, types):\n",
      "                    raise TypeError('Wrong type of return value')\n",
      "            return result\n",
      "        return wrapped\n",
      "    return wrapper\n",
      "\n",
      "@accepts(int, float)\n",
      "@returns(int)\n",
      "def bar(value):\n",
      "    return value + 9, value - 9\n",
      "\n",
      "bar(4.0)"
     ],
     "language": "python",
     "metadata": {},
     "outputs": [
      {
       "ename": "TypeError",
       "evalue": "Wrong type of return value",
       "output_type": "pyerr",
       "traceback": [
        "\u001b[0;31m---------------------------------------------------------------------------\u001b[0m\n\u001b[0;31mTypeError\u001b[0m                                 Traceback (most recent call last)",
        "\u001b[0;32m<ipython-input-23-91a3a95bfa4b>\u001b[0m in \u001b[0;36m<module>\u001b[0;34m()\u001b[0m\n\u001b[1;32m     25\u001b[0m     \u001b[0;32mreturn\u001b[0m \u001b[0mvalue\u001b[0m \u001b[0;34m+\u001b[0m \u001b[0;36m9\u001b[0m\u001b[0;34m,\u001b[0m \u001b[0mvalue\u001b[0m \u001b[0;34m-\u001b[0m \u001b[0;36m9\u001b[0m\u001b[0;34m\u001b[0m\u001b[0m\n\u001b[1;32m     26\u001b[0m \u001b[0;34m\u001b[0m\u001b[0m\n\u001b[0;32m---> 27\u001b[0;31m \u001b[0mbar\u001b[0m\u001b[0;34m(\u001b[0m\u001b[0;36m4.0\u001b[0m\u001b[0;34m)\u001b[0m\u001b[0;34m\u001b[0m\u001b[0m\n\u001b[0m",
        "\u001b[0;32m<ipython-input-23-91a3a95bfa4b>\u001b[0m in \u001b[0;36mwrapped\u001b[0;34m(*args, **kwargs)\u001b[0m\n\u001b[1;32m      5\u001b[0m                 \u001b[0;32mif\u001b[0m \u001b[0;32mnot\u001b[0m \u001b[0misinstance\u001b[0m\u001b[0;34m(\u001b[0m\u001b[0marg\u001b[0m\u001b[0;34m,\u001b[0m \u001b[0mtypes\u001b[0m\u001b[0;34m)\u001b[0m\u001b[0;34m:\u001b[0m\u001b[0;34m\u001b[0m\u001b[0m\n\u001b[1;32m      6\u001b[0m                     \u001b[0;32mraise\u001b[0m \u001b[0mTypeError\u001b[0m\u001b[0;34m(\u001b[0m\u001b[0;34m'Wrong type of argument'\u001b[0m\u001b[0;34m)\u001b[0m\u001b[0;34m\u001b[0m\u001b[0m\n\u001b[0;32m----> 7\u001b[0;31m             \u001b[0;32mreturn\u001b[0m \u001b[0mfunc\u001b[0m\u001b[0;34m(\u001b[0m\u001b[0;34m*\u001b[0m\u001b[0margs\u001b[0m\u001b[0;34m,\u001b[0m \u001b[0;34m**\u001b[0m\u001b[0mkwargs\u001b[0m\u001b[0;34m)\u001b[0m\u001b[0;34m\u001b[0m\u001b[0m\n\u001b[0m\u001b[1;32m      8\u001b[0m         \u001b[0;32mreturn\u001b[0m \u001b[0mwrapped\u001b[0m\u001b[0;34m\u001b[0m\u001b[0m\n\u001b[1;32m      9\u001b[0m     \u001b[0;32mreturn\u001b[0m \u001b[0mwrapper\u001b[0m\u001b[0;34m\u001b[0m\u001b[0m\n",
        "\u001b[0;32m<ipython-input-23-91a3a95bfa4b>\u001b[0m in \u001b[0;36mwrapped\u001b[0;34m(*args, **kwargs)\u001b[0m\n\u001b[1;32m     15\u001b[0m             \u001b[0;32mfor\u001b[0m \u001b[0mvalue\u001b[0m \u001b[0;32min\u001b[0m \u001b[0mresult\u001b[0m\u001b[0;34m:\u001b[0m\u001b[0;34m\u001b[0m\u001b[0m\n\u001b[1;32m     16\u001b[0m                 \u001b[0;32mif\u001b[0m \u001b[0;32mnot\u001b[0m \u001b[0misinstance\u001b[0m\u001b[0;34m(\u001b[0m\u001b[0mvalue\u001b[0m\u001b[0;34m,\u001b[0m \u001b[0mtypes\u001b[0m\u001b[0;34m)\u001b[0m\u001b[0;34m:\u001b[0m\u001b[0;34m\u001b[0m\u001b[0m\n\u001b[0;32m---> 17\u001b[0;31m                     \u001b[0;32mraise\u001b[0m \u001b[0mTypeError\u001b[0m\u001b[0;34m(\u001b[0m\u001b[0;34m'Wrong type of return value'\u001b[0m\u001b[0;34m)\u001b[0m\u001b[0;34m\u001b[0m\u001b[0m\n\u001b[0m\u001b[1;32m     18\u001b[0m             \u001b[0;32mreturn\u001b[0m \u001b[0mresult\u001b[0m\u001b[0;34m\u001b[0m\u001b[0m\n\u001b[1;32m     19\u001b[0m         \u001b[0;32mreturn\u001b[0m \u001b[0mwrapped\u001b[0m\u001b[0;34m\u001b[0m\u001b[0m\n",
        "\u001b[0;31mTypeError\u001b[0m: Wrong type of return value"
       ]
      }
     ],
     "prompt_number": 23
    }
   ],
   "metadata": {}
  }
 ]
}