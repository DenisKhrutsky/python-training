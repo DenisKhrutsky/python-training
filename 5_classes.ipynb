{
 "metadata": {
  "name": ""
 },
 "nbformat": 3,
 "nbformat_minor": 0,
 "worksheets": [
  {
   "cells": [
    {
     "cell_type": "heading",
     "level": 1,
     "metadata": {},
     "source": [
      "\u041a\u043b\u0430\u0441\u0441\u044b"
     ]
    },
    {
     "cell_type": "heading",
     "level": 3,
     "metadata": {},
     "source": [
      "\u0412\u043e\u043f\u0440\u043e\u0441\u044b"
     ]
    },
    {
     "cell_type": "heading",
     "level": 4,
     "metadata": {},
     "source": [
      "1. \u0414\u043b\u044f \u043a\u0430\u043a\u0438\u0445 \u0446\u0435\u043b\u0435\u0439 \u0438\u0441\u043f\u043e\u043b\u044c\u0437\u0443\u0435\u0442\u0441\u044f \u0444\u0443\u043d\u043a\u0446\u0438\u044f super?"
     ]
    },
    {
     "cell_type": "markdown",
     "metadata": {},
     "source": [
      "\u041c\u0435\u0442\u043e\u0434 super() \u0438\u0441\u043f\u043e\u043b\u044c\u0437\u0443\u0435\u0442\u0441\u044f \u0434\u043b\u044f \u043e\u0431\u0440\u0430\u0449\u0435\u043d\u0438\u044f \u043a \u0430\u0442\u0440\u0438\u0431\u0443\u0442\u0430\u043c \u0431\u0430\u0437\u043e\u0432\u043e\u0433\u043e \u043a\u043b\u0430\u0441\u0441\u0430, \u043a\u043e\u0442\u043e\u0440\u044b\u0435 \u0431\u044b\u043b\u0438 \u043f\u0435\u0440\u0435\u0433\u0440\u0443\u0436\u0435\u043d\u044b."
     ]
    },
    {
     "cell_type": "code",
     "collapsed": false,
     "input": [
      "class Person(object):\n",
      "    age = 0\n",
      "    def __init__(self, age=0):\n",
      "        self.age = age\n",
      "        \n",
      "class Man(Person):\n",
      "    height = 0\n",
      "    def __init__(self, age=0, height=0):\n",
      "        super(Man, self).__init__(age)\n",
      "        self.height = height\n",
      "        \n",
      "mike = Man(12, 180)\n",
      "print mike.age, mike.height"
     ],
     "language": "python",
     "metadata": {},
     "outputs": [
      {
       "output_type": "stream",
       "stream": "stdout",
       "text": [
        "12 180\n"
       ]
      }
     ],
     "prompt_number": 16
    },
    {
     "cell_type": "heading",
     "level": 4,
     "metadata": {},
     "source": [
      "2. \u041a\u0430\u043a\u0438\u043c \u043e\u0431\u0440\u0430\u0437\u043e\u043c \u043f\u0440\u043e\u0438\u0441\u0445\u043e\u0434\u0438\u0442 \u0440\u0430\u0437\u0440\u0435\u0448\u0435\u043d\u0438\u0435 \u043f\u043e\u0441\u043b\u0435\u0434\u043e\u0432\u0430\u0442\u0435\u043b\u044c\u043d\u043e\u0441\u0442\u0438 \u043d\u0430\u0441\u043b\u0435\u0434\u0443\u0435\u043c\u044b\u0445 \u043a\u043b\u0430\u0441\u0441\u043e\u0432 \u043f\u0440\u0438 \u043c\u043d\u043e\u0436\u0435\u0441\u0442\u0432\u0435\u043d\u043d\u043e\u043c \u043d\u0430\u0441\u043b\u0435\u0434\u043e\u0432\u0430\u043d\u0438\u0438?"
     ]
    },
    {
     "cell_type": "markdown",
     "metadata": {},
     "source": [
      "\u041f\u043e\u0438\u0441\u043a \u0430\u0442\u0440\u0438\u0431\u0443\u0442\u0430 \u0438\u0434\u0435\u0442 \u0432 \u0431\u0430\u0437\u043e\u0432\u044b\u0445 \u043a\u043b\u0430\u0441\u0441\u0430\u0445 \u0438\u0434\u0435\u0442 \u043f\u043e\u0441\u043b\u0435\u0434\u043e\u0432\u0430\u0442\u0435\u043b\u044c\u043d\u043e \u0438 \u0440\u0435\u043a\u0443\u0440\u0441\u0438\u0432\u043d\u043e. \u0422\u043e \u0435\u0441\u0442\u044c \u043f\u043e\u0438\u0441\u043a \u0430\u0442\u0440\u0438\u0431\u0443\u0442\u0430 \u0432 \u043a\u043b\u0430\u0441\u0441\u0435 __class Derived(Base1, Base2)__ \u0431\u0443\u0434\u0435\u0442 \u043e\u0441\u0443\u0449\u0435\u0441\u0442\u0432\u043b\u044f\u0442\u044c\u0441\u044f \u0441\u043d\u0430\u0447\u0430\u043b\u0430 \u0432 \u0441\u0430\u043c\u043e\u043c \u043a\u043b\u0430\u0441\u0441\u0435 __Derived__, \u0437\u0430\u0442\u0435\u043c \u0440\u0435\u043a\u0443\u0440\u0441\u0438\u0432\u043d\u043e \u0432 \u0431\u0430\u0437\u043e\u0432\u044b\u0445 \u043a\u043b\u0430\u0441\u0441\u0430\u0445 __Base1__, \u043f\u043e\u0441\u043b\u0435 \u044d\u0442\u043e\u0433\u043e - \u0432 __Base2__ \u0438 \u0442.\u0434."
     ]
    },
    {
     "cell_type": "code",
     "collapsed": false,
     "input": [
      "class Base1:\n",
      "    def f(self):\n",
      "        return 1\n",
      "    \n",
      "class Base2:\n",
      "    def f(self):\n",
      "        return 2\n",
      "    \n",
      "class Base3:\n",
      "    def f(self):\n",
      "        return 3\n",
      "    \n",
      "class Derived1(Base1, Base2, Base3):\n",
      "    pass\n",
      "\n",
      "class Derived2(Base2, Base1, Base3):\n",
      "    pass\n",
      "\n",
      "test1 = Derived1()\n",
      "test2 = Derived2()\n",
      "print test1.f()\n",
      "print test2.f()"
     ],
     "language": "python",
     "metadata": {},
     "outputs": [
      {
       "output_type": "stream",
       "stream": "stdout",
       "text": [
        "1\n",
        "2\n"
       ]
      }
     ],
     "prompt_number": 2
    },
    {
     "cell_type": "heading",
     "level": 3,
     "metadata": {},
     "source": [
      "\u0417\u0430\u0434\u0430\u043d\u0438\u044f"
     ]
    },
    {
     "cell_type": "heading",
     "level": 4,
     "metadata": {},
     "source": [
      "1. \u041d\u0430\u043f\u0438\u0441\u0430\u0442\u044c \u0431\u0430\u0437\u043e\u0432\u044b\u0439 \u043a\u043b\u0430\u0441\u0441 Observable, \u043a\u043e\u0442\u043e\u0440\u044b\u0439 \u0431\u044b \u043f\u043e\u0437\u0432\u043e\u043b\u044f\u043b \u043d\u0430\u0441\u043b\u0435\u0434\u043d\u0438\u043a\u0430\u043c \u043f\u0440\u0438 \u043f\u0435\u0440\u0435\u0434\u0430\u0447\u0435 **kwargs \u0437\u0430\u043d\u043e\u0441\u0438\u0442\u044c \u0441\u043e\u043e\u0442\u0432\u0435\u0442\u0441\u0442\u0432\u0443\u044e\u0449\u0438\u0435 \u0437\u043d\u0430\u0447\u0435\u043d\u0438\u044f \u043a\u0430\u043a \u0430\u0442\u0440\u0438\u0431\u0443\u0442\u044b. \u0421\u0434\u0435\u043b\u0430\u0442\u044c \u0442\u0430\u043a, \u0447\u0442\u043e\u0431\u044b \u043f\u0440\u0438 print \u043e\u0442\u043e\u0431\u0440\u0430\u0436\u0430\u043b\u0438\u0441\u044c \u0432\u0441\u0435 \u043f\u0443\u0431\u043b\u0438\u0447\u043d\u044b\u0435 \u0430\u0442\u0440\u0438\u0431\u0443\u0442\u044b."
     ]
    },
    {
     "cell_type": "code",
     "collapsed": false,
     "input": [
      "class Observable:\n",
      "    \"\"\"\n",
      "    Class that receives attrbutes as **kwargs.\n",
      "    \n",
      "    >>> class Man(Observable):\n",
      "    ...     pass\n",
      "    >>> x = Man(age=19, profession=\"Economist\", _city='Moscow', grades=(5, 4, 4))\n",
      "    >>> print x\n",
      "    X(age=19, profession=\"Economist\", grades=(5, 4, 4))\n",
      "    >>> print x.age\n",
      "    19\n",
      "    >>> print x.profession\n",
      "    Economist\n",
      "    >>> print x._city\n",
      "    Moscow\n",
      "    >>> print x.grades\n",
      "    (5, 4, 4)\n",
      "    \"\"\"\n",
      "    def __init__(self, **kwargs):\n",
      "        self.__dict__.update(kwargs)\n",
      "        \n",
      "    def __str__(self):        \n",
      "        return '%s(%s)' % (self.__class__.__name__, \\\n",
      "            ', '.join('%s=%s' % (key, value) \\\n",
      "                for (key, value) in self.__dict__.iteritems() \\\n",
      "                    if not key[0] == '_'))\n",
      "\n",
      "class X(Observable):\n",
      "    foo = 10\n",
      "    \n",
      "test = X(foo='Test', _bar=2, baz=(3, 4))\n",
      "print test"
     ],
     "language": "python",
     "metadata": {},
     "outputs": [
      {
       "output_type": "stream",
       "stream": "stdout",
       "text": [
        "X(foo=Test, baz=(3, 4))\n"
       ]
      }
     ],
     "prompt_number": 56
    },
    {
     "cell_type": "heading",
     "level": 4,
     "metadata": {},
     "source": [
      "2. \u041d\u0430\u043f\u0438\u0441\u0430\u0442\u044c \u043a\u043b\u0430\u0441\u0441, \u043a\u043e\u0442\u043e\u0440\u044b\u0439 \u0431\u044b \u043f\u043e \u0432\u0441\u0435\u043c \u0432\u043d\u0435\u0448\u043d\u0438\u043c \u043f\u0440\u0438\u0437\u043d\u0430\u043a\u0430\u043c \u0431\u044b\u043b \u0431\u044b \u0441\u043b\u043e\u0432\u0430\u0440\u0435\u043c, \u043d\u043e \u043f\u043e\u0437\u0432\u043e\u043b\u044f\u043b \u043e\u0431\u0440\u0430\u0449\u0430\u0442\u044c\u0441\u044f \u043a \u043a\u043b\u044e\u0447\u0430\u043c \u043a\u0430\u043a \u043a \u0430\u0442\u0440\u0438\u0431\u0443\u0442\u0430\u043c."
     ]
    },
    {
     "cell_type": "code",
     "collapsed": false,
     "input": [
      "class DictAttr(dict):\n",
      "    \"\"\"\n",
      "    Dictionary that provides access to keys as attributes.\n",
      "    \n",
      "    >>> x = DictAttr([('one', 1), ('two', 2), ('three', 3)])\n",
      "    >>> x\n",
      "    {'one': 1, 'three': 3, 'two': 2}\n",
      "    >>> x['three']\n",
      "    3\n",
      "    >>> x.get('one')\n",
      "    1\n",
      "    >>> x.get('five', 'missing')\n",
      "    'missing'\n",
      "    >>> x.one\n",
      "    1\n",
      "    >>> x.five\n",
      "    Traceback (most recent call last):\n",
      "    ...\n",
      "    AttributeError\n",
      "    \"\"\"\n",
      "    def __getattr__(self, key):\n",
      "        try:\n",
      "            return self[key]\n",
      "        except KeyError:\n",
      "            raise AttributeError, key\n",
      "    \n",
      "x = DictAttr([('foo', 'bar'), ('one', 1)])\n",
      "print x.one\n",
      "print x['foo']\n",
      "print x.get('food', 'Wrong key')"
     ],
     "language": "python",
     "metadata": {},
     "outputs": [
      {
       "output_type": "stream",
       "stream": "stdout",
       "text": [
        "1\n",
        "bar\n",
        "Wrong key\n"
       ]
      }
     ],
     "prompt_number": 48
    },
    {
     "cell_type": "heading",
     "level": 4,
     "metadata": {},
     "source": [
      "3. \u041f\u0443\u043d\u043a\u0442 2 \u0441 \u0443\u0441\u043b\u043e\u0436\u043d\u0435\u043d\u0438\u0435\u043c: \u043d\u0430\u043f\u0438\u0441\u0430\u0442\u044c \u0440\u043e\u0434\u0438\u0442\u0435\u043b\u044c\u0441\u043a\u0438\u0439 \u043a\u043b\u0430\u0441\u0441 XDictAttr \u0442\u0430\u043a, \u0447\u0442\u043e\u0431\u044b \u0443 \u043d\u0430\u0441\u043b\u0435\u0434\u043d\u0438\u043a\u0430 \u0434\u0438\u043d\u0430\u043c\u0438\u0447\u0435\u0441\u043a\u0438 \u043e\u043f\u0440\u0435\u0434\u0435\u043b\u044f\u043b\u0441\u044f \u043a\u043b\u044e\u0447 \u043f\u043e \u043d\u0430\u043b\u0438\u0447\u0438\u044e \u043c\u0435\u0442\u043e\u0434\u0430 get_KEY."
     ]
    },
    {
     "cell_type": "code",
     "collapsed": false,
     "input": [
      "class XDictAttr(DictAttr):\n",
      "    \"\"\"\n",
      "    Dictionary that provides access to keys as attributes.\n",
      "    Checks get_<KEY> method\n",
      "    \n",
      "    >>> class X(XDictAttr):\n",
      "    ...     def get_foo(self):\n",
      "    ...         return 5\n",
      "    ...     def get_bar(self):\n",
      "    ...         return 12\n",
      "    \n",
      "    >>> x = X({'one': 1, 'two': 2, 'three': 3})\n",
      "    >>> x\n",
      "    X: {'one': 1, 'three': 3, 'two': 2}\n",
      "    >>> x['one']\n",
      "    1\n",
      "    >>> x.three\n",
      "    3\n",
      "    >>> x.bar\n",
      "    12\n",
      "    >>> x['foo']\n",
      "    5\n",
      "    >>> x.get('foo', 'missing')\n",
      "    5\n",
      "    >>> x.get('bzz', 'missing')\n",
      "    'missing'\n",
      "    \"\"\"\n",
      "    def __repr__(self):\n",
      "        return self.__class__.__name__ + ': ' + super(XDictAttr, self).__repr__()\n",
      "    \n",
      "    def __getattr__(self, key):\n",
      "        try:\n",
      "            return super(XDictAttr, self).__getitem__(key)\n",
      "        except KeyError:\n",
      "            if key.startswith('get_'):\n",
      "                raise AttributeError\n",
      "            else:\n",
      "                return getattr(self, 'get_%s' % key)()\n",
      "        \n",
      "    def __getitem__(self, key):\n",
      "        try:\n",
      "            return super(XDictAttr, self).__getitem__(key)\n",
      "        except KeyError:\n",
      "            return getattr(self, 'get_%s' % key)()\n",
      "        \n",
      "    def get(self, key, message=None):\n",
      "        try:\n",
      "            return getattr(self, 'get_%s' % key)()\n",
      "        except AttributeError:\n",
      "            return super(XDictAttr, self).get(key, message)\n",
      "\n",
      "class X(XDictAttr):\n",
      "    def get_foo(self):\n",
      "        return 'bar'\n",
      "\n",
      "x = X({'one': 1, 'two': 2, 'three': 3})\n",
      "print x\n",
      "print x.get_foo()\n",
      "print x['foo']\n",
      "print x.foo\n",
      "print x.get('foo')\n",
      "print x.get('food', 'Wrong key')"
     ],
     "language": "python",
     "metadata": {},
     "outputs": [
      {
       "output_type": "stream",
       "stream": "stdout",
       "text": [
        "X: {'one': 1, 'three': 3, 'two': 2}\n",
        "bar\n",
        "bar\n",
        "bar\n",
        "bar\n",
        "Wrong key\n"
       ]
      }
     ],
     "prompt_number": 40
    },
    {
     "cell_type": "heading",
     "level": 4,
     "metadata": {},
     "source": [
      "4. \u041d\u0430\u043f\u0438\u0441\u0430\u0442\u044c \u043a\u043b\u0430\u0441\u0441, \u043a\u043e\u0442\u043e\u0440\u044b\u0439 \u0440\u0435\u0433\u0438\u0441\u0442\u0440\u0438\u0440\u0443\u0435\u0442 \u0441\u0432\u043e\u0438 \u044d\u043a\u0437\u0435\u043c\u043f\u043b\u044f\u0440\u044b \u0438 \u043f\u0440\u0435\u0434\u043e\u0441\u0442\u0430\u0432\u043b\u044f\u0435\u0442 \u0438\u043d\u0442\u0435\u0440\u0444\u0435\u0439\u0441 \u0438\u0442\u0435\u0440\u0430\u0442\u043e\u0440\u0430 \u043f\u043e \u043d\u0438\u043c."
     ]
    },
    {
     "cell_type": "code",
     "collapsed": false,
     "input": [
      "class IterableClass(type):\n",
      "    def __iter__(self):\n",
      "        return iter(self._instances)\n",
      "\n",
      "class Reg:\n",
      "    \"\"\"\n",
      "    Class that registers all instances and provides iterator.\n",
      "    \"\"\"\n",
      "    __metaclass__ = IterableClass\n",
      "    _instances = []\n",
      "    def __init__(self):\n",
      "        self._instances.append(self)\n",
      "        \n",
      "x = Reg()\n",
      "y = Reg()\n",
      "z = Reg()\n",
      "\n",
      "print x, y, z\n",
      "\n",
      "for instance in Reg:\n",
      "    print instance"
     ],
     "language": "python",
     "metadata": {},
     "outputs": [
      {
       "output_type": "stream",
       "stream": "stdout",
       "text": [
        "<__main__.Reg object at 0x7fb56f3848d0> <__main__.Reg object at 0x7fb57c0bcd10> <__main__.Reg object at 0x7fb57c0bcd90>\n",
        "<__main__.Reg object at 0x7fb56f3848d0>\n",
        "<__main__.Reg object at 0x7fb57c0bcd10>\n",
        "<__main__.Reg object at 0x7fb57c0bcd90>\n"
       ]
      }
     ],
     "prompt_number": 65
    },
    {
     "cell_type": "heading",
     "level": 4,
     "metadata": {},
     "source": [
      "5. \u0420\u0435\u0430\u043b\u0438\u0437\u043e\u0432\u0430\u0442\u044c \u0434\u0432\u043e\u0438\u0447\u043d\u043e\u0435 \u0434\u0435\u0440\u0435\u0432\u043e \u043f\u043e\u0438\u0441\u043a\u0430, \u0430 \u0442\u0430\u043a\u0436\u0435 \u043c\u0435\u0442\u043e\u0434\u044b \u0434\u043e\u0431\u0430\u0432\u043b\u0435\u043d\u0438\u044f, \u0443\u0434\u0430\u043b\u0435\u043d\u0438\u044f \u0438 \u043f\u043e\u0438\u0441\u043a\u0430 \u043d\u043e\u0434\u044b."
     ]
    },
    {
     "cell_type": "code",
     "collapsed": false,
     "input": [
      "class BinarySearchTree:\n",
      "    def __init__(self):\n",
      "        self.root = None\n",
      "        \n",
      "    def __iter__(self):\n",
      "        return self.root.__iter__()\n",
      "        \n",
      "    def __setitem__(self, key, value):\n",
      "        self.insert(key, value)\n",
      "        \n",
      "    def __getitem__(self, key):\n",
      "        self.get(key)\n",
      "        \n",
      "    def __contains__(self, key):\n",
      "        if self._get(key, self.root):\n",
      "            return True\n",
      "        else:\n",
      "            return False\n",
      "        \n",
      "    def insert(self, key, value):\n",
      "        if self.root:\n",
      "            self._insert(key, value, root)\n",
      "        else:\n",
      "            self.root = Node(key, value)\n",
      "            \n",
      "    def _insert(self, key, value, current_node):\n",
      "        if key < current_node.key:\n",
      "            if current_node.left_child:\n",
      "                self._insert(key, value, current_node.left_child)\n",
      "            else:\n",
      "                current_node.left_child = Node(key, value, current_node)\n",
      "        else:\n",
      "            if current_node.right_child:\n",
      "                self._insert(key, value, current_node.right_child)\n",
      "            else:\n",
      "                current_node.right_child = Node(key, value, current_node)\n",
      "                \n",
      "    def get(self, key):\n",
      "        if self.root:\n",
      "            node = self._get(key, self.root)\n",
      "            if node:\n",
      "                return node.value\n",
      "            else:\n",
      "                return None\n",
      "        else:\n",
      "            return None\n",
      "        \n",
      "    def _get(self, key, current_node):\n",
      "        if not current_node:\n",
      "            return None\n",
      "        elif key == current_node.key:\n",
      "            return current_node.value\n",
      "        elif key < current_node.key:\n",
      "            return self._get(key, current_node.left)\n",
      "        else:\n",
      "            return self._get(key, current_node.right)\n",
      "        \n",
      "    \n",
      "        \n",
      "class Node:\n",
      "    def __init__(self, key, value, parent=None, left=None, right=None):\n",
      "        self.key = key\n",
      "        self.value = value\n",
      "        self.left_child = left\n",
      "        self.right_child = right\n",
      "        self.parent = parent\n",
      "    \n",
      "    def has_left_child(self):\n",
      "        return self.left_child\n",
      "    \n",
      "    def has_right_child(self):\n",
      "        return self.right_child\n",
      "    \n",
      "    def has_any_children(self):\n",
      "        return self.right_child or self.left_child\n",
      "    \n",
      "    def is_root(self):\n",
      "        return not self.parent\n",
      "    \n",
      "    def is_leaf(self):\n",
      "        return not (self.left_child or self.right_child)\n",
      "    \n",
      "    def is_left_child(self):\n",
      "        return self.parent and self == self.parent.left_child\n",
      "    \n",
      "    def is_right_child(self):\n",
      "        return self.parent and self == self.parent.right_child\n",
      "    \n",
      "    def replace_data(self, key, value, left, right):\n",
      "        self.key = key\n",
      "        self.value = value\n",
      "        self.left_child = left\n",
      "        self.right_child = right\n",
      "        if self.has_left_child():\n",
      "            self.left_child.parent = self\n",
      "        if self.has_right_child():\n",
      "            self.right_child.parent = self"
     ],
     "language": "python",
     "metadata": {},
     "outputs": []
    }
   ],
   "metadata": {}
  }
 ]
}