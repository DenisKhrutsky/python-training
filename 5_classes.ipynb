{
 "metadata": {
  "name": ""
 },
 "nbformat": 3,
 "nbformat_minor": 0,
 "worksheets": [
  {
   "cells": [
    {
     "cell_type": "heading",
     "level": 1,
     "metadata": {},
     "source": [
      "\u041a\u043b\u0430\u0441\u0441\u044b"
     ]
    },
    {
     "cell_type": "heading",
     "level": 3,
     "metadata": {},
     "source": [
      "\u0412\u043e\u043f\u0440\u043e\u0441\u044b"
     ]
    },
    {
     "cell_type": "heading",
     "level": 4,
     "metadata": {},
     "source": [
      "1. \u0414\u043b\u044f \u043a\u0430\u043a\u0438\u0445 \u0446\u0435\u043b\u0435\u0439 \u0438\u0441\u043f\u043e\u043b\u044c\u0437\u0443\u0435\u0442\u0441\u044f \u0444\u0443\u043d\u043a\u0446\u0438\u044f super?"
     ]
    },
    {
     "cell_type": "markdown",
     "metadata": {},
     "source": [
      "\u041c\u0435\u0442\u043e\u0434 super() \u0438\u0441\u043f\u043e\u043b\u044c\u0437\u0443\u0435\u0442\u0441\u044f \u0434\u043b\u044f \u043e\u0431\u0440\u0430\u0449\u0435\u043d\u0438\u044f \u043a \u0430\u0442\u0440\u0438\u0431\u0443\u0442\u0430\u043c \u0431\u0430\u0437\u043e\u0432\u043e\u0433\u043e \u043a\u043b\u0430\u0441\u0441\u0430, \u043a\u043e\u0442\u043e\u0440\u044b\u0435 \u0431\u044b\u043b\u0438 \u043f\u0435\u0440\u0435\u0433\u0440\u0443\u0436\u0435\u043d\u044b."
     ]
    },
    {
     "cell_type": "code",
     "collapsed": false,
     "input": [
      "class Person(object):\n",
      "    def __init__(self, age=0):\n",
      "        self.age = age\n",
      "        \n",
      "class Man(Person):\n",
      "    def __init__(self, age=0, height=0):\n",
      "        super(Man, self).__init__(age)\n",
      "        self.height = height\n",
      "        \n",
      "mike = Man(12, 180)\n",
      "print mike.age, mike.height"
     ],
     "language": "python",
     "metadata": {},
     "outputs": [
      {
       "output_type": "stream",
       "stream": "stdout",
       "text": [
        "12 180\n"
       ]
      }
     ],
     "prompt_number": 1
    },
    {
     "cell_type": "heading",
     "level": 4,
     "metadata": {},
     "source": [
      "2. \u041a\u0430\u043a\u0438\u043c \u043e\u0431\u0440\u0430\u0437\u043e\u043c \u043f\u0440\u043e\u0438\u0441\u0445\u043e\u0434\u0438\u0442 \u0440\u0430\u0437\u0440\u0435\u0448\u0435\u043d\u0438\u0435 \u043f\u043e\u0441\u043b\u0435\u0434\u043e\u0432\u0430\u0442\u0435\u043b\u044c\u043d\u043e\u0441\u0442\u0438 \u043d\u0430\u0441\u043b\u0435\u0434\u0443\u0435\u043c\u044b\u0445 \u043a\u043b\u0430\u0441\u0441\u043e\u0432 \u043f\u0440\u0438 \u043c\u043d\u043e\u0436\u0435\u0441\u0442\u0432\u0435\u043d\u043d\u043e\u043c \u043d\u0430\u0441\u043b\u0435\u0434\u043e\u0432\u0430\u043d\u0438\u0438?"
     ]
    },
    {
     "cell_type": "markdown",
     "metadata": {},
     "source": [
      "\u041f\u043e\u0438\u0441\u043a \u0430\u0442\u0440\u0438\u0431\u0443\u0442\u0430 \u0438\u0434\u0435\u0442 \u0432 \u0431\u0430\u0437\u043e\u0432\u044b\u0445 \u043a\u043b\u0430\u0441\u0441\u0430\u0445 \u0438\u0434\u0435\u0442 \u043f\u043e\u0441\u043b\u0435\u0434\u043e\u0432\u0430\u0442\u0435\u043b\u044c\u043d\u043e \u0438 \u0440\u0435\u043a\u0443\u0440\u0441\u0438\u0432\u043d\u043e. \u0422\u043e \u0435\u0441\u0442\u044c \u043f\u043e\u0438\u0441\u043a \u0430\u0442\u0440\u0438\u0431\u0443\u0442\u0430 \u0432 \u043a\u043b\u0430\u0441\u0441\u0435 __class Derived(Base1, Base2)__ \u0431\u0443\u0434\u0435\u0442 \u043e\u0441\u0443\u0449\u0435\u0441\u0442\u0432\u043b\u044f\u0442\u044c\u0441\u044f \u0441\u043d\u0430\u0447\u0430\u043b\u0430 \u0432 \u0441\u0430\u043c\u043e\u043c \u043a\u043b\u0430\u0441\u0441\u0435 __Derived__, \u0437\u0430\u0442\u0435\u043c \u0440\u0435\u043a\u0443\u0440\u0441\u0438\u0432\u043d\u043e \u0432 \u0431\u0430\u0437\u043e\u0432\u044b\u0445 \u043a\u043b\u0430\u0441\u0441\u0430\u0445 __Base1__, \u043f\u043e\u0441\u043b\u0435 \u044d\u0442\u043e\u0433\u043e - \u0432 __Base2__ \u0438 \u0442.\u0434."
     ]
    },
    {
     "cell_type": "code",
     "collapsed": false,
     "input": [
      "class Base1:\n",
      "    def f(self):\n",
      "        return 1\n",
      "    \n",
      "class Base2:\n",
      "    def f(self):\n",
      "        return 2\n",
      "    \n",
      "class Base3:\n",
      "    def f(self):\n",
      "        return 3\n",
      "    \n",
      "class Derived1(Base1, Base2, Base3):\n",
      "    pass\n",
      "\n",
      "class Derived2(Base2, Base1, Base3):\n",
      "    pass\n",
      "\n",
      "test1 = Derived1()\n",
      "test2 = Derived2()\n",
      "print test1.f()\n",
      "print test2.f()"
     ],
     "language": "python",
     "metadata": {},
     "outputs": [
      {
       "output_type": "stream",
       "stream": "stdout",
       "text": [
        "1\n",
        "2\n"
       ]
      }
     ],
     "prompt_number": 2
    },
    {
     "cell_type": "heading",
     "level": 3,
     "metadata": {},
     "source": [
      "\u0417\u0430\u0434\u0430\u043d\u0438\u044f"
     ]
    },
    {
     "cell_type": "heading",
     "level": 4,
     "metadata": {},
     "source": [
      "1. \u041d\u0430\u043f\u0438\u0441\u0430\u0442\u044c \u0431\u0430\u0437\u043e\u0432\u044b\u0439 \u043a\u043b\u0430\u0441\u0441 Observable, \u043a\u043e\u0442\u043e\u0440\u044b\u0439 \u0431\u044b \u043f\u043e\u0437\u0432\u043e\u043b\u044f\u043b \u043d\u0430\u0441\u043b\u0435\u0434\u043d\u0438\u043a\u0430\u043c \u043f\u0440\u0438 \u043f\u0435\u0440\u0435\u0434\u0430\u0447\u0435 **kwargs \u0437\u0430\u043d\u043e\u0441\u0438\u0442\u044c \u0441\u043e\u043e\u0442\u0432\u0435\u0442\u0441\u0442\u0432\u0443\u044e\u0449\u0438\u0435 \u0437\u043d\u0430\u0447\u0435\u043d\u0438\u044f \u043a\u0430\u043a \u0430\u0442\u0440\u0438\u0431\u0443\u0442\u044b. \u0421\u0434\u0435\u043b\u0430\u0442\u044c \u0442\u0430\u043a, \u0447\u0442\u043e\u0431\u044b \u043f\u0440\u0438 print \u043e\u0442\u043e\u0431\u0440\u0430\u0436\u0430\u043b\u0438\u0441\u044c \u0432\u0441\u0435 \u043f\u0443\u0431\u043b\u0438\u0447\u043d\u044b\u0435 \u0430\u0442\u0440\u0438\u0431\u0443\u0442\u044b."
     ]
    },
    {
     "cell_type": "code",
     "collapsed": false,
     "input": [
      "class Observable:\n",
      "    \"\"\"\n",
      "    Class that receives attrbutes as **kwargs.\n",
      "    \n",
      "    >>> class Man(Observable):\n",
      "    ...     pass\n",
      "    >>> x = Man(age=19, profession=\"Economist\", _city='Moscow', grades=(5, 4, 4))\n",
      "    >>> print x\n",
      "    X(age=19, profession=\"Economist\", grades=(5, 4, 4))\n",
      "    >>> print x.age\n",
      "    19\n",
      "    >>> print x.profession\n",
      "    Economist\n",
      "    >>> print x._city\n",
      "    Moscow\n",
      "    >>> print x.grades\n",
      "    (5, 4, 4)\n",
      "    \"\"\"\n",
      "    def __init__(self, **kwargs):\n",
      "        self.__dict__.update(kwargs)\n",
      "        \n",
      "    def __str__(self):        \n",
      "        return '%s(%s)' % (self.__class__.__name__, \\\n",
      "            ', '.join('%s=%s' % (key, value) \\\n",
      "                for (key, value) in self.__dict__.iteritems() \\\n",
      "                    if not key[0] == '_'))\n",
      "\n",
      "class X(Observable):\n",
      "    foo = 10\n",
      "    \n",
      "test = X(foo='Test', _bar=2, baz=(3, 4))\n",
      "print test"
     ],
     "language": "python",
     "metadata": {},
     "outputs": [
      {
       "output_type": "stream",
       "stream": "stdout",
       "text": [
        "X(foo=Test, baz=(3, 4))\n"
       ]
      }
     ],
     "prompt_number": 56
    },
    {
     "cell_type": "heading",
     "level": 4,
     "metadata": {},
     "source": [
      "2. \u041d\u0430\u043f\u0438\u0441\u0430\u0442\u044c \u043a\u043b\u0430\u0441\u0441, \u043a\u043e\u0442\u043e\u0440\u044b\u0439 \u0431\u044b \u043f\u043e \u0432\u0441\u0435\u043c \u0432\u043d\u0435\u0448\u043d\u0438\u043c \u043f\u0440\u0438\u0437\u043d\u0430\u043a\u0430\u043c \u0431\u044b\u043b \u0431\u044b \u0441\u043b\u043e\u0432\u0430\u0440\u0435\u043c, \u043d\u043e \u043f\u043e\u0437\u0432\u043e\u043b\u044f\u043b \u043e\u0431\u0440\u0430\u0449\u0430\u0442\u044c\u0441\u044f \u043a \u043a\u043b\u044e\u0447\u0430\u043c \u043a\u0430\u043a \u043a \u0430\u0442\u0440\u0438\u0431\u0443\u0442\u0430\u043c."
     ]
    },
    {
     "cell_type": "code",
     "collapsed": false,
     "input": [
      "class DictAttr(dict):\n",
      "    \"\"\"\n",
      "    Dictionary that provides access to keys as attributes.\n",
      "    \n",
      "    >>> x = DictAttr([('one', 1), ('two', 2), ('three', 3)])\n",
      "    >>> x\n",
      "    {'one': 1, 'three': 3, 'two': 2}\n",
      "    >>> x['three']\n",
      "    3\n",
      "    >>> x.get('one')\n",
      "    1\n",
      "    >>> x.get('five', 'missing')\n",
      "    'missing'\n",
      "    >>> x.one\n",
      "    1\n",
      "    >>> x.five\n",
      "    Traceback (most recent call last):\n",
      "    ...\n",
      "    AttributeError\n",
      "    \"\"\"\n",
      "    def __getattr__(self, key):\n",
      "        try:\n",
      "            return self[key]\n",
      "        except KeyError:\n",
      "            raise AttributeError, key\n",
      "    \n",
      "x = DictAttr([('foo', 'bar'), ('one', 1)])\n",
      "print x.one\n",
      "print x['foo']\n",
      "print x.get('food', 'Wrong key')"
     ],
     "language": "python",
     "metadata": {},
     "outputs": [
      {
       "output_type": "stream",
       "stream": "stdout",
       "text": [
        "1\n",
        "bar\n",
        "Wrong key\n"
       ]
      }
     ],
     "prompt_number": 48
    },
    {
     "cell_type": "heading",
     "level": 4,
     "metadata": {},
     "source": [
      "3. \u041f\u0443\u043d\u043a\u0442 2 \u0441 \u0443\u0441\u043b\u043e\u0436\u043d\u0435\u043d\u0438\u0435\u043c: \u043d\u0430\u043f\u0438\u0441\u0430\u0442\u044c \u0440\u043e\u0434\u0438\u0442\u0435\u043b\u044c\u0441\u043a\u0438\u0439 \u043a\u043b\u0430\u0441\u0441 XDictAttr \u0442\u0430\u043a, \u0447\u0442\u043e\u0431\u044b \u0443 \u043d\u0430\u0441\u043b\u0435\u0434\u043d\u0438\u043a\u0430 \u0434\u0438\u043d\u0430\u043c\u0438\u0447\u0435\u0441\u043a\u0438 \u043e\u043f\u0440\u0435\u0434\u0435\u043b\u044f\u043b\u0441\u044f \u043a\u043b\u044e\u0447 \u043f\u043e \u043d\u0430\u043b\u0438\u0447\u0438\u044e \u043c\u0435\u0442\u043e\u0434\u0430 get_KEY."
     ]
    },
    {
     "cell_type": "code",
     "collapsed": false,
     "input": [
      "class XDictAttr(DictAttr):\n",
      "    \"\"\"\n",
      "    Dictionary that provides access to keys as attributes.\n",
      "    Checks get_<KEY> method\n",
      "    \n",
      "    >>> class X(XDictAttr):\n",
      "    ...     def get_foo(self):\n",
      "    ...         return 5\n",
      "    ...     def get_bar(self):\n",
      "    ...         return 12\n",
      "    \n",
      "    >>> x = X({'one': 1, 'two': 2, 'three': 3})\n",
      "    >>> x\n",
      "    X: {'one': 1, 'three': 3, 'two': 2}\n",
      "    >>> x['one']\n",
      "    1\n",
      "    >>> x.three\n",
      "    3\n",
      "    >>> x.bar\n",
      "    12\n",
      "    >>> x['foo']\n",
      "    5\n",
      "    >>> x.get('foo', 'missing')\n",
      "    5\n",
      "    >>> x.get('bzz', 'missing')\n",
      "    'missing'\n",
      "    \"\"\"\n",
      "    def __repr__(self):\n",
      "        return self.__class__.__name__ + ': ' + super(XDictAttr, self).__repr__()\n",
      "    \n",
      "    def __getattr__(self, key):\n",
      "        try:\n",
      "            return super(XDictAttr, self).__getitem__(key)\n",
      "        except KeyError:\n",
      "            if key.startswith('get_'):\n",
      "                raise AttributeError\n",
      "            else:\n",
      "                return getattr(self, 'get_%s' % key)()\n",
      "        \n",
      "    def __getitem__(self, key):\n",
      "        try:\n",
      "            return super(XDictAttr, self).__getitem__(key)\n",
      "        except KeyError:\n",
      "            return getattr(self, 'get_%s' % key)()\n",
      "        \n",
      "    def get(self, key, message=None):\n",
      "        try:\n",
      "            return getattr(self, 'get_%s' % key)()\n",
      "        except AttributeError:\n",
      "            return super(XDictAttr, self).get(key, message)\n",
      "\n",
      "class X(XDictAttr):\n",
      "    def get_foo(self):\n",
      "        return 'bar'\n",
      "\n",
      "x = X({'one': 1, 'two': 2, 'three': 3})\n",
      "print x\n",
      "print x.get_foo()\n",
      "print x['foo']\n",
      "print x.foo\n",
      "print x.get('foo')\n",
      "print x.get('food', 'Wrong key')"
     ],
     "language": "python",
     "metadata": {},
     "outputs": [
      {
       "output_type": "stream",
       "stream": "stdout",
       "text": [
        "X: {'one': 1, 'three': 3, 'two': 2}\n",
        "bar\n",
        "bar\n",
        "bar\n",
        "bar\n",
        "Wrong key\n"
       ]
      }
     ],
     "prompt_number": 40
    },
    {
     "cell_type": "heading",
     "level": 4,
     "metadata": {},
     "source": [
      "4. \u041d\u0430\u043f\u0438\u0441\u0430\u0442\u044c \u043a\u043b\u0430\u0441\u0441, \u043a\u043e\u0442\u043e\u0440\u044b\u0439 \u0440\u0435\u0433\u0438\u0441\u0442\u0440\u0438\u0440\u0443\u0435\u0442 \u0441\u0432\u043e\u0438 \u044d\u043a\u0437\u0435\u043c\u043f\u043b\u044f\u0440\u044b \u0438 \u043f\u0440\u0435\u0434\u043e\u0441\u0442\u0430\u0432\u043b\u044f\u0435\u0442 \u0438\u043d\u0442\u0435\u0440\u0444\u0435\u0439\u0441 \u0438\u0442\u0435\u0440\u0430\u0442\u043e\u0440\u0430 \u043f\u043e \u043d\u0438\u043c."
     ]
    },
    {
     "cell_type": "code",
     "collapsed": false,
     "input": [
      "class IterableClass(type):\n",
      "    def __iter__(self):\n",
      "        return iter(self._instances)\n",
      "\n",
      "class Reg:\n",
      "    \"\"\"\n",
      "    Class that registers all instances and provides iterator.\n",
      "    \"\"\"\n",
      "    __metaclass__ = IterableClass\n",
      "    _instances = []\n",
      "    def __init__(self):\n",
      "        self._instances.append(self)\n",
      "        \n",
      "x = Reg()\n",
      "y = Reg()\n",
      "z = Reg()\n",
      "\n",
      "print x, y, z\n",
      "\n",
      "for instance in Reg:\n",
      "    print instance"
     ],
     "language": "python",
     "metadata": {},
     "outputs": [
      {
       "output_type": "stream",
       "stream": "stdout",
       "text": [
        "<__main__.Reg object at 0x7fb56f3848d0> <__main__.Reg object at 0x7fb57c0bcd10> <__main__.Reg object at 0x7fb57c0bcd90>\n",
        "<__main__.Reg object at 0x7fb56f3848d0>\n",
        "<__main__.Reg object at 0x7fb57c0bcd10>\n",
        "<__main__.Reg object at 0x7fb57c0bcd90>\n"
       ]
      }
     ],
     "prompt_number": 65
    },
    {
     "cell_type": "heading",
     "level": 4,
     "metadata": {},
     "source": [
      "5. \u0420\u0435\u0430\u043b\u0438\u0437\u043e\u0432\u0430\u0442\u044c \u0434\u0432\u043e\u0438\u0447\u043d\u043e\u0435 \u0434\u0435\u0440\u0435\u0432\u043e \u043f\u043e\u0438\u0441\u043a\u0430, \u0430 \u0442\u0430\u043a\u0436\u0435 \u043c\u0435\u0442\u043e\u0434\u044b \u0434\u043e\u0431\u0430\u0432\u043b\u0435\u043d\u0438\u044f, \u0443\u0434\u0430\u043b\u0435\u043d\u0438\u044f \u0438 \u043f\u043e\u0438\u0441\u043a\u0430 \u043d\u043e\u0434\u044b."
     ]
    },
    {
     "cell_type": "code",
     "collapsed": false,
     "input": [
      "class BinarySearchTree:\n",
      "    def __init__(self):\n",
      "        self.root = None\n",
      "        self.size = 0\n",
      "    \n",
      "    def __len__(self):\n",
      "        return self.size\n",
      "        \n",
      "    def __iter__(self):\n",
      "        return self.root.__iter__()\n",
      "        \n",
      "    def __setitem__(self, key, value):\n",
      "        self.insert(key, value)\n",
      "        \n",
      "    def __getitem__(self, key):\n",
      "        return self.get(key)\n",
      "        \n",
      "    def __delitem__(self, key):\n",
      "        self.delete(key)\n",
      "        \n",
      "    def __contains__(self, key):\n",
      "        if self._get(key, self.root):\n",
      "            return True\n",
      "        else:\n",
      "            return False\n",
      "        \n",
      "    def insert(self, key, value):\n",
      "        if self.root:\n",
      "            self._insert(key, value, self.root)\n",
      "        else:\n",
      "            self.root = Node(key, value)\n",
      "        self.size += 1\n",
      "            \n",
      "    def _insert(self, key, value, current_node):\n",
      "        if key < current_node.key:\n",
      "            if current_node.left_child:\n",
      "                self._insert(key, value, current_node.left_child)\n",
      "            else:\n",
      "                current_node.left_child = Node(key, value, current_node)\n",
      "        else:\n",
      "            if current_node.right_child:\n",
      "                self._insert(key, value, current_node.right_child)\n",
      "            else:\n",
      "                current_node.right_child = Node(key, value, current_node)\n",
      "                \n",
      "    def get(self, key, default=None):\n",
      "        if self.root:\n",
      "            node = self._get(key, self.root)\n",
      "            if node:\n",
      "                return node.value\n",
      "            else:\n",
      "                raise KeyError('Key not found')\n",
      "        else:\n",
      "            raise KeyError('Key not found')\n",
      "        \n",
      "    def _get(self, key, current_node):\n",
      "        if not current_node:\n",
      "            return None\n",
      "        elif key == current_node.key:\n",
      "            return current_node\n",
      "        elif key < current_node.key:\n",
      "            return self._get(key, current_node.left_child)\n",
      "        else:\n",
      "            return self._get(key, current_node.right_child)\n",
      "        \n",
      "    def delete(self, key):\n",
      "        if self.size > 1:\n",
      "            node_to_remove = self._get(key, self.root)\n",
      "            if node_to_remove:\n",
      "                self.remove(node_to_remove)\n",
      "                self.size = self.size - 1\n",
      "            else:\n",
      "                raise KeyError('Key not found')\n",
      "        elif self.size == 1 and key == self.root.key:\n",
      "            self.root = None\n",
      "            self.size = 0\n",
      "        else:\n",
      "            raise KeyError('Key not found')\n",
      "            \n",
      "    def replace(self):\n",
      "        if self.is_leaf():\n",
      "            if self.is_left_child():\n",
      "                self.parent.left_child = None\n",
      "            else:\n",
      "                self.parent.right_child = None\n",
      "        elif self.has_any_children():\n",
      "            if self.has_left_child():\n",
      "                if self.is_left_child():\n",
      "                    self.parent.left_child = self.left_child\n",
      "                else:\n",
      "                    self.parent.right_child = self.left_child\n",
      "                self.left_child.parent = self.parent\n",
      "        else:\n",
      "            if self.is_left_child():\n",
      "                self.parent.left_child = self.right_child\n",
      "            else:\n",
      "                self.parent.right_child = self.right_child\n",
      "            self.right_child.parent = self.parent\n",
      "\n",
      "    def find_successor(self):\n",
      "        succ = None\n",
      "        if self.has_right_child():\n",
      "            succ = self.right_child.find_min()\n",
      "        else:\n",
      "            if self.parent:\n",
      "                if self.is_left_child():\n",
      "                    succ = self.parent\n",
      "                else:\n",
      "                    self.parent.right_child = None\n",
      "                    succ = self.parent.find_successor()\n",
      "                    self.parent.right_child = self\n",
      "        return succ\n",
      "\n",
      "    def find_min(self):\n",
      "        current = self\n",
      "        while current.has_left_child():\n",
      "            current = current.left_child\n",
      "        return current\n",
      "\n",
      "    def remove(self, current_node):\n",
      "        if current_node.is_leaf():\n",
      "            if current_node == current_node.parent.left_child:\n",
      "                current_node.parent.left_child = None\n",
      "            else:\n",
      "                current_node.parent.right_child = None\n",
      "        \n",
      "        elif current_node.has_both_children():\n",
      "            succ = current_node.find_successor()\n",
      "            succ.replace()\n",
      "            current_node.key = succ.key\n",
      "            current_node.value = succ.value\n",
      "\n",
      "        else: # has one child\n",
      "            if current_node.has_left_child():\n",
      "                if current_node.is_left_child():\n",
      "                    current_node.left_child.parent = current_node.parent\n",
      "                    current_node.parent.left_child = current_node.left_child\n",
      "                elif currentNode.is_right_child():\n",
      "                    current_node.left_child.parent = current_node.parent\n",
      "                    current_node.parent.right_child = current_node.left_child\n",
      "                else:\n",
      "                    current_node.replace_data(current_node.left_child.key,\n",
      "                                    current_node.left_child.value,\n",
      "                                    current_node.left_child.left_child,\n",
      "                                    current_node.left_child.right_child)\n",
      "            else:\n",
      "                if current_node.is_left_child():\n",
      "                    current_node.right_child.parent = current_node.parent\n",
      "                    current_node.parent.left_child = current_node.right_child\n",
      "                elif current_node.is_right_child():\n",
      "                    current_node.right_child.parent = current_node.parent\n",
      "                    current_node.parent.right_child = current_node.right_child\n",
      "                else:\n",
      "                    current_node.replace_data(current_node.right_child.key,\n",
      "                                    current_node.right_child.value,\n",
      "                                    current_node.right_child.left_child,\n",
      "                                    current_node.right_child.right_child)\n",
      "            \n",
      "        \n",
      "    \n",
      "        \n",
      "class Node:\n",
      "    def __init__(self, key, value, parent=None, left=None, right=None):\n",
      "        self.key = key\n",
      "        self.value = value\n",
      "        self.left_child = left\n",
      "        self.right_child = right\n",
      "        self.parent = parent\n",
      "    \n",
      "    def has_left_child(self):\n",
      "        return self.left_child\n",
      "    \n",
      "    def has_right_child(self):\n",
      "        return self.right_child\n",
      "    \n",
      "    def has_any_children(self):\n",
      "        return self.right_child or self.left_child\n",
      "    \n",
      "    def has_both_children(self):\n",
      "        return self.right_child and self.left_child\n",
      "    \n",
      "    def is_root(self):\n",
      "        return not self.parent\n",
      "    \n",
      "    def is_leaf(self):\n",
      "        return not (self.left_child or self.right_child)\n",
      "    \n",
      "    def is_left_child(self):\n",
      "        return self.parent and self == self.parent.left_child\n",
      "    \n",
      "    def is_right_child(self):\n",
      "        return self.parent and self == self.parent.right_child\n",
      "    \n",
      "    def replace_data(self, key, value, left, right):\n",
      "        self.key = key\n",
      "        self.value = value\n",
      "        self.left_child = left\n",
      "        self.right_child = right\n",
      "        if self.has_left_child():\n",
      "            self.left_child.parent = self\n",
      "        if self.has_right_child():\n",
      "            self.right_child.parent = self"
     ],
     "language": "python",
     "metadata": {},
     "outputs": [],
     "prompt_number": 101
    },
    {
     "cell_type": "code",
     "collapsed": false,
     "input": [
      "bst = BinarySearchTree()\n",
      "bst[0] = 23\n",
      "bst['a'] = 22\n",
      "bst[3] = 42\n",
      "\n",
      "print 'Before: value=%s, root=%s' % (bst[0], bst.root.key)\n",
      "del bst[0]\n",
      "print 'After: value=%s, root=%s' % (bst[0], bst.root.key)\n"
     ],
     "language": "python",
     "metadata": {},
     "outputs": [
      {
       "ename": "KeyError",
       "evalue": "'Key not found'",
       "output_type": "pyerr",
       "traceback": [
        "\u001b[0;31m---------------------------------------------------------------------------\u001b[0m\n\u001b[0;31mKeyError\u001b[0m                                  Traceback (most recent call last)",
        "\u001b[0;32m<ipython-input-110-ba865066ff06>\u001b[0m in \u001b[0;36m<module>\u001b[0;34m()\u001b[0m\n\u001b[1;32m      6\u001b[0m \u001b[0;32mprint\u001b[0m \u001b[0;34m'Before: value=%s, root=%s'\u001b[0m \u001b[0;34m%\u001b[0m \u001b[0;34m(\u001b[0m\u001b[0mbst\u001b[0m\u001b[0;34m[\u001b[0m\u001b[0;36m0\u001b[0m\u001b[0;34m]\u001b[0m\u001b[0;34m,\u001b[0m \u001b[0mbst\u001b[0m\u001b[0;34m.\u001b[0m\u001b[0mroot\u001b[0m\u001b[0;34m.\u001b[0m\u001b[0mkey\u001b[0m\u001b[0;34m)\u001b[0m\u001b[0;34m\u001b[0m\u001b[0m\n\u001b[1;32m      7\u001b[0m \u001b[0;32mdel\u001b[0m \u001b[0mbst\u001b[0m\u001b[0;34m[\u001b[0m\u001b[0;36m0\u001b[0m\u001b[0;34m]\u001b[0m\u001b[0;34m\u001b[0m\u001b[0m\n\u001b[0;32m----> 8\u001b[0;31m \u001b[0;32mprint\u001b[0m \u001b[0;34m'After: value=%s, root=%s'\u001b[0m \u001b[0;34m%\u001b[0m \u001b[0;34m(\u001b[0m\u001b[0mbst\u001b[0m\u001b[0;34m[\u001b[0m\u001b[0;36m0\u001b[0m\u001b[0;34m]\u001b[0m\u001b[0;34m,\u001b[0m \u001b[0mbst\u001b[0m\u001b[0;34m.\u001b[0m\u001b[0mroot\u001b[0m\u001b[0;34m.\u001b[0m\u001b[0mkey\u001b[0m\u001b[0;34m)\u001b[0m\u001b[0;34m\u001b[0m\u001b[0m\n\u001b[0m",
        "\u001b[0;32m<ipython-input-101-d6cec44ef173>\u001b[0m in \u001b[0;36m__getitem__\u001b[0;34m(self, key)\u001b[0m\n\u001b[1;32m     14\u001b[0m \u001b[0;34m\u001b[0m\u001b[0m\n\u001b[1;32m     15\u001b[0m     \u001b[0;32mdef\u001b[0m \u001b[0m__getitem__\u001b[0m\u001b[0;34m(\u001b[0m\u001b[0mself\u001b[0m\u001b[0;34m,\u001b[0m \u001b[0mkey\u001b[0m\u001b[0;34m)\u001b[0m\u001b[0;34m:\u001b[0m\u001b[0;34m\u001b[0m\u001b[0m\n\u001b[0;32m---> 16\u001b[0;31m         \u001b[0;32mreturn\u001b[0m \u001b[0mself\u001b[0m\u001b[0;34m.\u001b[0m\u001b[0mget\u001b[0m\u001b[0;34m(\u001b[0m\u001b[0mkey\u001b[0m\u001b[0;34m)\u001b[0m\u001b[0;34m\u001b[0m\u001b[0m\n\u001b[0m\u001b[1;32m     17\u001b[0m \u001b[0;34m\u001b[0m\u001b[0m\n\u001b[1;32m     18\u001b[0m     \u001b[0;32mdef\u001b[0m \u001b[0m__delitem__\u001b[0m\u001b[0;34m(\u001b[0m\u001b[0mself\u001b[0m\u001b[0;34m,\u001b[0m \u001b[0mkey\u001b[0m\u001b[0;34m)\u001b[0m\u001b[0;34m:\u001b[0m\u001b[0;34m\u001b[0m\u001b[0m\n",
        "\u001b[0;32m<ipython-input-101-d6cec44ef173>\u001b[0m in \u001b[0;36mget\u001b[0;34m(self, key)\u001b[0m\n\u001b[1;32m     50\u001b[0m                 \u001b[0;32mreturn\u001b[0m \u001b[0mnode\u001b[0m\u001b[0;34m.\u001b[0m\u001b[0mvalue\u001b[0m\u001b[0;34m\u001b[0m\u001b[0m\n\u001b[1;32m     51\u001b[0m             \u001b[0;32melse\u001b[0m\u001b[0;34m:\u001b[0m\u001b[0;34m\u001b[0m\u001b[0m\n\u001b[0;32m---> 52\u001b[0;31m                 \u001b[0;32mraise\u001b[0m \u001b[0mKeyError\u001b[0m\u001b[0;34m(\u001b[0m\u001b[0;34m'Key not found'\u001b[0m\u001b[0;34m)\u001b[0m\u001b[0;34m\u001b[0m\u001b[0m\n\u001b[0m\u001b[1;32m     53\u001b[0m         \u001b[0;32melse\u001b[0m\u001b[0;34m:\u001b[0m\u001b[0;34m\u001b[0m\u001b[0m\n\u001b[1;32m     54\u001b[0m             \u001b[0;32mraise\u001b[0m \u001b[0mKeyError\u001b[0m\u001b[0;34m(\u001b[0m\u001b[0;34m'Key not found'\u001b[0m\u001b[0;34m)\u001b[0m\u001b[0;34m\u001b[0m\u001b[0m\n",
        "\u001b[0;31mKeyError\u001b[0m: 'Key not found'"
       ]
      },
      {
       "output_type": "stream",
       "stream": "stdout",
       "text": [
        "Before: value=23, root=0\n"
       ]
      }
     ],
     "prompt_number": 110
    },
    {
     "cell_type": "heading",
     "level": 4,
     "metadata": {},
     "source": [
      "6. \u042e\u043d\u0438\u0442-\u0442\u0435\u0441\u0442\u044b"
     ]
    },
    {
     "cell_type": "code",
     "collapsed": false,
     "input": [
      "if __name__ == '__main__':\n",
      "    import unittest\n",
      "    \n",
      "    class TestClasses(unittest.TestCase):\n",
      "        \n",
      "        def testObservable(self):\n",
      "            class Man(Observable): pass\n",
      "            x = Man(age=19, profession=\"Economist\", _city='Moscow', grades=(5, 4, 4))\n",
      "            self.assertEqual(str(x), 'Man(grades=(5, 4, 4), profession=Economist, age=19)')\n",
      "            self.assertEqual(x.age, 19)\n",
      "            self.assertEqual(x._city, 'Moscow')\n",
      "            self.assertEqual(x.grades, (5, 4, 4))\n",
      "        \n",
      "        def testDictAttr(self):\n",
      "            x = DictAttr([('one', 1), ('two', 2), ('three', 3)])\n",
      "            self.assertEqual(str(x), \"{'three': 3, 'two': 2, 'one': 1}\")\n",
      "            self.assertEqual(x['three'], 3)\n",
      "            self.assertEqual(x.get('one'), 1)\n",
      "            self.assertEqual(x.get('five', 'missing'), 'missing')\n",
      "            self.assertRaises(AttributeError, getattr, x, 'five')\n",
      "            \n",
      "        def testXDictAttr(self):\n",
      "            \n",
      "            class Dict(XDictAttr):\n",
      "                def get_foo(self):\n",
      "                    return 3\n",
      "                def get_bar(self):\n",
      "                    return 5\n",
      "                \n",
      "            x = Dict({'one': 1, 'two': 2, 'three': 3})\n",
      "            self.assertEqual(str(x), \"Dict: {'one': 1, 'three': 3, 'two': 2}\")\n",
      "            self.assertEqual(x['one'], 1)\n",
      "            self.assertEqual(x.two, 2)\n",
      "            self.assertEqual(x['foo'], 3)\n",
      "            self.assertEqual(x.bar, 5)\n",
      "            self.assertEqual(x.get('foo', 'missing'), 3)\n",
      "            self.assertEqual(x.get('food', 'missing'), 'missing')\n",
      "            self.assertRaises(AttributeError, getattr, x, 'food')\n",
      "            \n",
      "        def testReg(self):\n",
      "            a = Reg()\n",
      "            b = Reg()\n",
      "            c = Reg()\n",
      "            d = Reg()\n",
      "            self.assertTrue([a, b, c, d], [x for x in Reg])\n",
      "            \n",
      "        def testTree(self):\n",
      "            bst = BinarySearchTree()\n",
      "            bst[0] = 23\n",
      "            bst['a'] = 22\n",
      "            bst[3] = 42\n",
      "            self.assertEqual(bst.root.key, 0)\n",
      "            self.assertEqual(bst.root.right_child.key, 'a')\n",
      "            self.assertEqual(bst.root.right_child.left_child.key, 3)\n",
      "            self.assertEqual(bst[0], 23)\n",
      "            self.assertEqual(bst['a'], 22)\n",
      "            del bst[0]\n",
      "            self.assertRaises(KeyError, bst.get, 0)\n",
      "            self.assertEqual(bst.root.key, 'a')\n",
      "            self.assertEqual(bst.root.left_child.key, 3)\n",
      "            self.assertRaises(KeyError, bst.__delitem__, 1)\n",
      "            \n",
      "    unittest.main()\n",
      "            "
     ],
     "language": "python",
     "metadata": {},
     "outputs": [
      {
       "ename": "AttributeError",
       "evalue": "'module' object has no attribute '/home/dkhrutsky/'",
       "output_type": "pyerr",
       "traceback": [
        "\u001b[0;31m---------------------------------------------------------------------------\u001b[0m\n\u001b[0;31mAttributeError\u001b[0m                            Traceback (most recent call last)",
        "\u001b[0;32m<ipython-input-3-e8a94208411b>\u001b[0m in \u001b[0;36m<module>\u001b[0;34m()\u001b[0m\n\u001b[1;32m     62\u001b[0m \u001b[0;34m\u001b[0m\u001b[0m\n\u001b[1;32m     63\u001b[0m \u001b[0;34m\u001b[0m\u001b[0m\n\u001b[0;32m---> 64\u001b[0;31m     \u001b[0munittest\u001b[0m\u001b[0;34m.\u001b[0m\u001b[0mmain\u001b[0m\u001b[0;34m(\u001b[0m\u001b[0;34m)\u001b[0m\u001b[0;34m\u001b[0m\u001b[0m\n\u001b[0m\u001b[1;32m     65\u001b[0m \u001b[0;34m\u001b[0m\u001b[0m\n",
        "\u001b[0;32m/usr/lib/python2.7/unittest/main.py\u001b[0m in \u001b[0;36m__init__\u001b[0;34m(self, module, defaultTest, argv, testRunner, testLoader, exit, verbosity, failfast, catchbreak, buffer)\u001b[0m\n\u001b[1;32m     92\u001b[0m         \u001b[0mself\u001b[0m\u001b[0;34m.\u001b[0m\u001b[0mtestLoader\u001b[0m \u001b[0;34m=\u001b[0m \u001b[0mtestLoader\u001b[0m\u001b[0;34m\u001b[0m\u001b[0m\n\u001b[1;32m     93\u001b[0m         \u001b[0mself\u001b[0m\u001b[0;34m.\u001b[0m\u001b[0mprogName\u001b[0m \u001b[0;34m=\u001b[0m \u001b[0mos\u001b[0m\u001b[0;34m.\u001b[0m\u001b[0mpath\u001b[0m\u001b[0;34m.\u001b[0m\u001b[0mbasename\u001b[0m\u001b[0;34m(\u001b[0m\u001b[0margv\u001b[0m\u001b[0;34m[\u001b[0m\u001b[0;36m0\u001b[0m\u001b[0;34m]\u001b[0m\u001b[0;34m)\u001b[0m\u001b[0;34m\u001b[0m\u001b[0m\n\u001b[0;32m---> 94\u001b[0;31m         \u001b[0mself\u001b[0m\u001b[0;34m.\u001b[0m\u001b[0mparseArgs\u001b[0m\u001b[0;34m(\u001b[0m\u001b[0margv\u001b[0m\u001b[0;34m)\u001b[0m\u001b[0;34m\u001b[0m\u001b[0m\n\u001b[0m\u001b[1;32m     95\u001b[0m         \u001b[0mself\u001b[0m\u001b[0;34m.\u001b[0m\u001b[0mrunTests\u001b[0m\u001b[0;34m(\u001b[0m\u001b[0;34m)\u001b[0m\u001b[0;34m\u001b[0m\u001b[0m\n\u001b[1;32m     96\u001b[0m \u001b[0;34m\u001b[0m\u001b[0m\n",
        "\u001b[0;32m/usr/lib/python2.7/unittest/main.py\u001b[0m in \u001b[0;36mparseArgs\u001b[0;34m(self, argv)\u001b[0m\n\u001b[1;32m    147\u001b[0m             \u001b[0;32melse\u001b[0m\u001b[0;34m:\u001b[0m\u001b[0;34m\u001b[0m\u001b[0m\n\u001b[1;32m    148\u001b[0m                 \u001b[0mself\u001b[0m\u001b[0;34m.\u001b[0m\u001b[0mtestNames\u001b[0m \u001b[0;34m=\u001b[0m \u001b[0;34m(\u001b[0m\u001b[0mself\u001b[0m\u001b[0;34m.\u001b[0m\u001b[0mdefaultTest\u001b[0m\u001b[0;34m,\u001b[0m\u001b[0;34m)\u001b[0m\u001b[0;34m\u001b[0m\u001b[0m\n\u001b[0;32m--> 149\u001b[0;31m             \u001b[0mself\u001b[0m\u001b[0;34m.\u001b[0m\u001b[0mcreateTests\u001b[0m\u001b[0;34m(\u001b[0m\u001b[0;34m)\u001b[0m\u001b[0;34m\u001b[0m\u001b[0m\n\u001b[0m\u001b[1;32m    150\u001b[0m         \u001b[0;32mexcept\u001b[0m \u001b[0mgetopt\u001b[0m\u001b[0;34m.\u001b[0m\u001b[0merror\u001b[0m\u001b[0;34m,\u001b[0m \u001b[0mmsg\u001b[0m\u001b[0;34m:\u001b[0m\u001b[0;34m\u001b[0m\u001b[0m\n\u001b[1;32m    151\u001b[0m             \u001b[0mself\u001b[0m\u001b[0;34m.\u001b[0m\u001b[0musageExit\u001b[0m\u001b[0;34m(\u001b[0m\u001b[0mmsg\u001b[0m\u001b[0;34m)\u001b[0m\u001b[0;34m\u001b[0m\u001b[0m\n",
        "\u001b[0;32m/usr/lib/python2.7/unittest/main.py\u001b[0m in \u001b[0;36mcreateTests\u001b[0;34m(self)\u001b[0m\n\u001b[1;32m    156\u001b[0m         \u001b[0;32melse\u001b[0m\u001b[0;34m:\u001b[0m\u001b[0;34m\u001b[0m\u001b[0m\n\u001b[1;32m    157\u001b[0m             self.test = self.testLoader.loadTestsFromNames(self.testNames,\n\u001b[0;32m--> 158\u001b[0;31m                                                            self.module)\n\u001b[0m\u001b[1;32m    159\u001b[0m \u001b[0;34m\u001b[0m\u001b[0m\n\u001b[1;32m    160\u001b[0m     \u001b[0;32mdef\u001b[0m \u001b[0m_do_discovery\u001b[0m\u001b[0;34m(\u001b[0m\u001b[0mself\u001b[0m\u001b[0;34m,\u001b[0m \u001b[0margv\u001b[0m\u001b[0;34m,\u001b[0m \u001b[0mLoader\u001b[0m\u001b[0;34m=\u001b[0m\u001b[0mNone\u001b[0m\u001b[0;34m)\u001b[0m\u001b[0;34m:\u001b[0m\u001b[0;34m\u001b[0m\u001b[0m\n",
        "\u001b[0;32m/usr/lib/python2.7/unittest/loader.py\u001b[0m in \u001b[0;36mloadTestsFromNames\u001b[0;34m(self, names, module)\u001b[0m\n\u001b[1;32m    128\u001b[0m         \u001b[0mof\u001b[0m \u001b[0mstring\u001b[0m \u001b[0mspecifiers\u001b[0m\u001b[0;34m.\u001b[0m \u001b[0mSee\u001b[0m \u001b[0;34m'loadTestsFromName()'\u001b[0m\u001b[0;34m.\u001b[0m\u001b[0;34m\u001b[0m\u001b[0m\n\u001b[1;32m    129\u001b[0m         \"\"\"\n\u001b[0;32m--> 130\u001b[0;31m         \u001b[0msuites\u001b[0m \u001b[0;34m=\u001b[0m \u001b[0;34m[\u001b[0m\u001b[0mself\u001b[0m\u001b[0;34m.\u001b[0m\u001b[0mloadTestsFromName\u001b[0m\u001b[0;34m(\u001b[0m\u001b[0mname\u001b[0m\u001b[0;34m,\u001b[0m \u001b[0mmodule\u001b[0m\u001b[0;34m)\u001b[0m \u001b[0;32mfor\u001b[0m \u001b[0mname\u001b[0m \u001b[0;32min\u001b[0m \u001b[0mnames\u001b[0m\u001b[0;34m]\u001b[0m\u001b[0;34m\u001b[0m\u001b[0m\n\u001b[0m\u001b[1;32m    131\u001b[0m         \u001b[0;32mreturn\u001b[0m \u001b[0mself\u001b[0m\u001b[0;34m.\u001b[0m\u001b[0msuiteClass\u001b[0m\u001b[0;34m(\u001b[0m\u001b[0msuites\u001b[0m\u001b[0;34m)\u001b[0m\u001b[0;34m\u001b[0m\u001b[0m\n\u001b[1;32m    132\u001b[0m \u001b[0;34m\u001b[0m\u001b[0m\n",
        "\u001b[0;32m/usr/lib/python2.7/unittest/loader.py\u001b[0m in \u001b[0;36mloadTestsFromName\u001b[0;34m(self, name, module)\u001b[0m\n\u001b[1;32m     98\u001b[0m         \u001b[0mobj\u001b[0m \u001b[0;34m=\u001b[0m \u001b[0mmodule\u001b[0m\u001b[0;34m\u001b[0m\u001b[0m\n\u001b[1;32m     99\u001b[0m         \u001b[0;32mfor\u001b[0m \u001b[0mpart\u001b[0m \u001b[0;32min\u001b[0m \u001b[0mparts\u001b[0m\u001b[0;34m:\u001b[0m\u001b[0;34m\u001b[0m\u001b[0m\n\u001b[0;32m--> 100\u001b[0;31m             \u001b[0mparent\u001b[0m\u001b[0;34m,\u001b[0m \u001b[0mobj\u001b[0m \u001b[0;34m=\u001b[0m \u001b[0mobj\u001b[0m\u001b[0;34m,\u001b[0m \u001b[0mgetattr\u001b[0m\u001b[0;34m(\u001b[0m\u001b[0mobj\u001b[0m\u001b[0;34m,\u001b[0m \u001b[0mpart\u001b[0m\u001b[0;34m)\u001b[0m\u001b[0;34m\u001b[0m\u001b[0m\n\u001b[0m\u001b[1;32m    101\u001b[0m \u001b[0;34m\u001b[0m\u001b[0m\n\u001b[1;32m    102\u001b[0m         \u001b[0;32mif\u001b[0m \u001b[0misinstance\u001b[0m\u001b[0;34m(\u001b[0m\u001b[0mobj\u001b[0m\u001b[0;34m,\u001b[0m \u001b[0mtypes\u001b[0m\u001b[0;34m.\u001b[0m\u001b[0mModuleType\u001b[0m\u001b[0;34m)\u001b[0m\u001b[0;34m:\u001b[0m\u001b[0;34m\u001b[0m\u001b[0m\n",
        "\u001b[0;31mAttributeError\u001b[0m: 'module' object has no attribute '/home/dkhrutsky/'"
       ]
      }
     ],
     "prompt_number": 3
    }
   ],
   "metadata": {}
  }
 ]
}