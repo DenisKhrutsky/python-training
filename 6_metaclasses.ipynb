{
 "metadata": {
  "name": ""
 },
 "nbformat": 3,
 "nbformat_minor": 0,
 "worksheets": [
  {
   "cells": [
    {
     "cell_type": "heading",
     "level": 1,
     "metadata": {},
     "source": [
      "\u041c\u0435\u0442\u0430\u043a\u043b\u0430\u0441\u0441\u044b \u0438 \u0434\u0435\u0441\u043a\u0440\u0438\u043f\u0442\u043e\u0440\u044b"
     ]
    },
    {
     "cell_type": "heading",
     "level": 3,
     "metadata": {},
     "source": [
      "\u0412\u043e\u043f\u0440\u043e\u0441\u044b"
     ]
    },
    {
     "cell_type": "heading",
     "level": 4,
     "metadata": {},
     "source": [
      "1. \u0414\u043b\u044f \u0447\u0435\u0433\u043e \u0438\u0441\u043f\u043e\u043b\u044c\u0437\u0443\u044e\u0442\u0441\u044f, \u043a\u0430\u043a\u0438\u0435 \u0430\u0440\u0433\u0443\u043c\u0435\u043d\u0442\u044b \u043f\u043e\u043b\u0443\u0447\u0430\u044e\u0442, \u0447\u0442\u043e \u0434\u043e\u043b\u0436\u043d\u044b \u0432\u043e\u0437\u0432\u0440\u0430\u0449\u0430\u0442\u044c: \u043c\u0435\u0442\u043e\u0434\u044b __new__ \u0438 __init__ \u043a\u043b\u0430\u0441\u0441\u043e\u0432?"
     ]
    },
    {
     "cell_type": "raw",
     "metadata": {},
     "source": [
      "__new__(cls, *args, **kwargs) - \u0438\u0441\u043f\u043e\u043b\u044c\u0437\u0443\u0435\u0442\u0441\u044f \u043f\u0440\u0438 \u0441\u043e\u0437\u0434\u0430\u043d\u0438\u0438 \u044d\u043a\u0437\u0435\u043c\u043f\u043b\u044f\u0440\u0430 \u043a\u043b\u0430\u0441\u0441\u0430 cls. \u0412\u043e\u0437\u0432\u0440\u0430\u0449\u0430\u0435\u0442 \u0441\u043e\u0437\u0434\u0430\u043d\u043d\u044b\u0439 \u044d\u043a\u0437\u0435\u043c\u043f\u043b\u044f\u0440 \u043a\u043b\u0430\u0441\u0441\u0430.\n",
      "    cls - \u043a\u043b\u0430\u0441\u0441, \u044d\u043a\u0437\u0435\u043c\u043f\u043b\u044f\u0440 \u043a\u043e\u0442\u043e\u0440\u043e\u0433\u043e \u043d\u0443\u0436\u043d\u043e \u0441\u043e\u0437\u0434\u0430\u0442\u044c\n",
      "    *args - \u043d\u0435\u0438\u043c\u0435\u043d\u043e\u0432\u0430\u043d\u043d\u044b\u0435 \u0430\u0440\u0433\u0443\u043c\u0435\u043d\u0442\u044b\n",
      "    **kwargs - \u0438\u043c\u0435\u043d\u043e\u0432\u0430\u043d\u043d\u044b\u0435 \u0430\u0440\u0433\u0443\u043c\u0435\u043d\u0442\u044b\n",
      "\n",
      "__init__(self, *args, **kwargs) - \u0438\u0441\u043f\u043e\u043b\u044c\u0437\u0443\u0435\u0442\u0441\u044f \u043f\u0440\u0438 \u0438\u043d\u0438\u0446\u0438\u0430\u043b\u0438\u0437\u0430\u0446\u0438\u0438 \u043e\u0431\u044a\u0435\u043a\u0442\u0430 \u043a\u043b\u0430\u0441\u0441\u0430 cls. \u0412\u043e\u0437\u0432\u0440\u0430\u0449\u0430\u0435\u0442 None, \u0434\u0440\u0443\u0433\u043e\u0433\u043e \u043d\u0435 \u043c\u043e\u0436\u0435\u0442 (\u0438\u043d\u0430\u0447\u0435 TypeError).\n",
      "    self - \u0441\u043e\u0437\u0434\u0430\u043d\u043d\u044b\u0439 \u0441 \u043f\u043e\u043c\u043e\u0449\u044c\u044e __new__ \u044d\u043a\u0437\u0435\u043c\u043f\u043b\u044f\u0440 \u043a\u043b\u0430\u0441\u0441\u0430\n",
      "    *args - \u043d\u0435\u0438\u043c\u0435\u043d\u043e\u0432\u0430\u043d\u043d\u044b\u0435 \u0430\u0440\u0433\u0443\u043c\u0435\u043d\u0442\u044b\n",
      "    **kwargs - \u0438\u043c\u0435\u043d\u043e\u0432\u0430\u043d\u043d\u044b\u0435 \u0430\u0440\u0433\u0443\u043c\u0435\u043d\u0442\u044b\n",
      "\n",
      "\n",
      "\u041f\u0440\u0438 \u0441\u043e\u0437\u0434\u0430\u043d\u0438\u0438 \u044d\u043a\u0437\u0435\u043c\u043f\u043b\u044f\u0440\u0430 \u043a\u043b\u0430\u0441\u0441\u0430 \u043f\u0435\u0440\u0432\u044b\u043c \u0434\u0435\u043b\u043e\u043c \u0432\u044b\u0437\u044b\u0432\u0430\u0435\u0442\u0441\u044f __new__. \u042d\u0442\u043e\u0442 \u043c\u0435\u0442\u043e\u0434 \u0432\u043e\u0437\u0432\u0440\u0430\u0449\u0430\u0435\u0442 \u044d\u043a\u0437\u0435\u043c\u043f\u043b\u044f\u0440 \u043a\u043b\u0430\u0441\u0441\u0430, \u043a\u043e\u0442\u043e\u0440\u044b\u0439 \u043f\u0435\u0440\u0435\u0434\u0430\u0435\u0442\u0441\u044f \u0437\u0430\u0442\u0435\u043c \u043c\u0435\u0442\u043e\u0434\u0443 __init__. \u041c\u0435\u0442\u043e\u0434 __init__ \u043a\u0430\u043a\u0438\u043c-\u043b\u0438\u0431\u043e \u0437\u0430\u0434\u0430\u043d\u043d\u044b\u043c \u043e\u0431\u0440\u0430\u0437\u043e\u043c \u0438\u0437\u043c\u0435\u043d\u044f\u0435\u0442 \u043e\u0431\u044a\u0435\u043a\u0442 \u0438 \u0432\u043e\u0437\u0432\u0440\u0430\u0449\u0430\u0435\u0442 None (\u0434\u0440\u0443\u0433\u043e\u0435 \u0432\u043e\u0437\u0432\u0440\u0430\u0449\u0430\u0442\u044c \u043d\u0435 \u043c\u043e\u0436\u0435\u0442 - TypeError)."
     ]
    },
    {
     "cell_type": "heading",
     "level": 4,
     "metadata": {},
     "source": [
      "2. \u041a\u0430\u043a\u0438\u0435 \u0430\u0440\u0433\u0443\u043c\u0435\u043d\u0442\u044b \u043f\u043e\u043b\u0443\u0447\u0430\u0435\u0442 __new__ \u0438 __init__ \u0443 \u043c\u0435\u0442\u0430\u043a\u043b\u0430\u0441\u0441\u0430?"
     ]
    },
    {
     "cell_type": "raw",
     "metadata": {},
     "source": [
      "__new__(mcs, name, bases, dict)\n",
      "    mcs - \u043c\u0435\u0442\u0430\u043a\u043b\u0430\u0441\u0441\n",
      "    name - \u0438\u043c\u044f \u043a\u043b\u0430\u0441\u0441\u0430\n",
      "    bases - \u0440\u043e\u0434\u0438\u0442\u0435\u043b\u044c\u0441\u043a\u0438\u0435 \u043a\u043b\u0430\u0441\u0441\u044b\n",
      "    dict - \u0441\u043b\u043e\u0432\u0430\u0440\u044c \u0430\u0442\u0440\u0438\u0431\u0443\u0442\u043e\u0432\n",
      "\n",
      "__init__(cls, name, bases, dict)\n",
      "    cls - \u043a\u043b\u0430\u0441\u0441\n",
      "    name - \u0438\u043c\u044f \u043a\u043b\u0430\u0441\u0441\u0430\n",
      "    bases - h\u043e\u0434\u0438\u0442\u0435\u043b\u044c\u0441\u043a\u0438\u0435 \u043a\u043b\u0430\u0441\u0441\u044b\n",
      "    dict - \u0441\u043b\u043e\u0432\u0430\u0440\u044c \u0430\u0442\u0440\u0438\u0431\u0443\u0442\u043e\u0432"
     ]
    },
    {
     "cell_type": "heading",
     "level": 3,
     "metadata": {},
     "source": [
      "\u0417\u0430\u0434\u0430\u043d\u0438\u044f"
     ]
    },
    {
     "cell_type": "heading",
     "level": 4,
     "metadata": {},
     "source": [
      "1. \u0420\u0435\u0430\u043b\u0438\u0437\u043e\u0432\u0430\u0442\u044c \u0434\u0435\u0441\u043a\u0440\u0438\u043f\u0442\u043e\u0440\u044b, \u043a\u043e\u0442\u043e\u0440\u044b\u0435 \u0431\u044b \u0444\u0438\u043a\u0441\u0438\u0440\u043e\u0432\u0430\u043b\u0438 \u0442\u0438\u043f \u0430\u0442\u0440\u0438\u0431\u0443\u0442\u0430."
     ]
    },
    {
     "cell_type": "code",
     "collapsed": false,
     "input": [
      "class Property(object):\n",
      "    def __init__(self, value):\n",
      "        self.__value = value\n",
      "        \n",
      "    def __get__(self, obj, objtype=None):\n",
      "        return self.__value\n",
      "\n",
      "    def __set__(self, obj, value):\n",
      "        if type(value) == type(self.__value):\n",
      "            self.__value = value\n",
      "        else:\n",
      "            raise TypeError\n",
      "            \n",
      "class Image(object):\n",
      "    height = Property(0)\n",
      "    width = Property(0)\n",
      "    path = Property('/tmp/')\n",
      "    \n",
      "img = Image()\n",
      "img.height = 1080\n",
      "img.width = 1920\n",
      "img.path = '/tmp/12dfvzdf3.jpg'\n",
      "# img.path = 1 TypeError"
     ],
     "language": "python",
     "metadata": {},
     "outputs": [],
     "prompt_number": 2
    },
    {
     "cell_type": "heading",
     "level": 4,
     "metadata": {},
     "source": [
      "2. \u0420\u0435\u0430\u043b\u0438\u0437\u043e\u0432\u0430\u0442\u044c \u0431\u0430\u0437\u043e\u0432\u044b\u0439 \u043a\u043b\u0430\u0441\u0441 (\u0438\u0441\u043f\u043e\u043b\u044c\u0437\u0443\u044f \u043c\u0435\u0442\u0430\u043a\u043b\u0430\u0441\u0441), \u043a\u043e\u0442\u043e\u0440\u044b\u0439 \u0431\u044b \u0444\u0438\u043a\u0441\u0438\u0440\u043e\u0432\u0430\u043b \u0442\u0438\u043f \u0430\u0442\u0440\u0438\u0431\u0443\u0442\u0430."
     ]
    },
    {
     "cell_type": "code",
     "collapsed": false,
     "input": [
      "class ImageMeta(type):\n",
      "    def __new__(mcs, name, bases, dct):\n",
      "        for key, val in dct.iteritems():\n",
      "            if not hasattr(val, '__call__'):\n",
      "                dct[key] = Property(val)\n",
      "        return type.__new__(mcs, name, bases, dct)\n",
      "\n",
      "class ImageBase(object):\n",
      "    __metaclass__ = ImageMeta\n",
      "    \n",
      "class ImageNew(ImageBase):\n",
      "    foo = 1\n",
      "    bar = 'asd'\n",
      "    \n",
      "img2 = ImageNew()\n",
      "img2.foo = 2\n",
      "img2.bar = '3'\n",
      "# img2.bar = 3 causes TypeError\n",
      "# img2.foo = '2' causes TypeError"
     ],
     "language": "python",
     "metadata": {},
     "outputs": [],
     "prompt_number": 9
    },
    {
     "cell_type": "heading",
     "level": 4,
     "metadata": {},
     "source": [
      "3. \u0420\u0435\u0430\u043b\u0438\u0437\u043e\u0432\u0430\u0442\u044c \u0431\u0430\u0437\u043e\u0432\u044b\u0439 \u043a\u043b\u0430\u0441\u0441 (\u0438\u0441\u043f\u043e\u043b\u044c\u0437\u0443\u044f \u043c\u0435\u0442\u0430\u043a\u043b\u0430\u0441\u0441) \u0438 \u0434\u0435\u0441\u043a\u0440\u0438\u043f\u0442\u043e\u0440\u044b, \u043a\u043e\u0442\u043e\u0440\u044b\u0435 \u0431\u044b \u043d\u0430 \u043e\u0441\u043d\u043e\u0432\u0435 \u043a\u043b\u0430\u0441\u0441\u0430 \u0441\u043e\u0437\u0434\u0430\u0432\u0430\u043b\u0438 SQL-\u0441\u0445\u0435\u043c\u0443 (ANSI SQL) \u0434\u043b\u044f \u043c\u043e\u0434\u0435\u043b\u0438."
     ]
    },
    {
     "cell_type": "code",
     "collapsed": false,
     "input": [
      "class PropertySQL(object):\n",
      "    order = 0\n",
      "    \n",
      "    def __init__(self, value_type):\n",
      "        self.__value = None\n",
      "        self.__value_type = value_type\n",
      "        self.order = PropertySQL.order\n",
      "        PropertySQL.order += 1\n",
      "    \n",
      "    def __get__(self, obj, objtype=None):\n",
      "        return self.__value\n",
      "    \n",
      "    def __set__(self, obj, value):\n",
      "        if type(value) == self.__value_type:\n",
      "            self.__value = value\n",
      "        else:\n",
      "            raise TypeError\n",
      "\n",
      "class Integer(PropertySQL):\n",
      "    def __init__(self):\n",
      "        super(Integer, self).__init__(int)\n",
      "        \n",
      "    def __str__(self):\n",
      "        return 'INTEGER'\n",
      "\n",
      "class Str(PropertySQL):\n",
      "    def __init__(self, size):\n",
      "        super(Str, self).__init__(basestring)\n",
      "        self.__size = size\n",
      "        \n",
      "    def __str__(self):\n",
      "        return 'VARCHAR(%i)' % self.__size\n",
      "\n",
      "class TableMeta(type):\n",
      "    def __new__(mcs, name, bases, dct):\n",
      "        fields = [(attr_name, val) for (attr_name, val) in dct.items()\\\n",
      "                                       if isinstance(val, PropertySQL)]\n",
      "        fields.sort(key=lambda x: x[1].order)\n",
      "        sql = ',\\n'.join('\\t{0} {1}'.format(attr_name, val)\\\n",
      "            for (attr_name, val) in fields)\n",
      "        dct['__sql'] = 'CREATE TABLE {0} (\\n{1}\\n)'.format(name, sql)\n",
      "        return type.__new__(mcs, name, bases, dct)\n",
      "\n",
      "class Table(object):\n",
      "    __metaclass__ = TableMeta\n",
      "    \n",
      "    @classmethod\n",
      "    def sql(cls):\n",
      "        return cls.__dict__['__sql']\n",
      "    \n",
      "class ImageSQL(Table):\n",
      "    height = Integer()\n",
      "    width = Integer()\n",
      "    path = Str(200)\n",
      "    \n",
      "img3 = ImageSQL()\n",
      "print img3.sql()"
     ],
     "language": "python",
     "metadata": {},
     "outputs": [
      {
       "output_type": "stream",
       "stream": "stdout",
       "text": [
        "CREATE TABLE ImageSQL (\n",
        "\theight INTEGER,\n",
        "\twidth INTEGER,\n",
        "\tpath VARCHAR(200)\n",
        ")\n"
       ]
      }
     ],
     "prompt_number": 21
    }
   ],
   "metadata": {}
  }
 ]
}